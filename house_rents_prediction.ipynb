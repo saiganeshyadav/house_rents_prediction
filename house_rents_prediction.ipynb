{
 "cells": [
  {
   "cell_type": "code",
   "execution_count": 1,
   "metadata": {},
   "outputs": [],
   "source": [
    "import pandas as pd\n",
    "import numpy as np\n",
    "import matplotlib.pyplot as plt"
   ]
  },
  {
   "cell_type": "code",
   "execution_count": 145,
   "metadata": {},
   "outputs": [],
   "source": [
    "pd.set_option(\"display.max_columns\",30)\n",
    "pd.set_option(\"display.max_rows\",50000)"
   ]
  },
  {
   "cell_type": "code",
   "execution_count": 39,
   "metadata": {},
   "outputs": [],
   "source": [
    "train_data = pd.read_csv(r\"Participants_data_DSSC_SZ\\train.csv\")"
   ]
  },
  {
   "cell_type": "code",
   "execution_count": 40,
   "metadata": {},
   "outputs": [
    {
     "data": {
      "text/html": [
       "<div>\n",
       "<style scoped>\n",
       "    .dataframe tbody tr th:only-of-type {\n",
       "        vertical-align: middle;\n",
       "    }\n",
       "\n",
       "    .dataframe tbody tr th {\n",
       "        vertical-align: top;\n",
       "    }\n",
       "\n",
       "    .dataframe thead th {\n",
       "        text-align: right;\n",
       "    }\n",
       "</style>\n",
       "<table border=\"1\" class=\"dataframe\">\n",
       "  <thead>\n",
       "    <tr style=\"text-align: right;\">\n",
       "      <th></th>\n",
       "      <th>Property_ID</th>\n",
       "      <th>room</th>\n",
       "      <th>layout_type</th>\n",
       "      <th>property_type</th>\n",
       "      <th>locality</th>\n",
       "      <th>price</th>\n",
       "      <th>area</th>\n",
       "      <th>furnish_type</th>\n",
       "      <th>bathroom</th>\n",
       "      <th>city</th>\n",
       "      <th>parking_spaces</th>\n",
       "      <th>floor</th>\n",
       "      <th>pet_friendly</th>\n",
       "      <th>power_backup</th>\n",
       "      <th>washing_machine</th>\n",
       "      <th>air_conditioner</th>\n",
       "      <th>geyser/solar</th>\n",
       "      <th>security_deposit</th>\n",
       "      <th>CCTV/security</th>\n",
       "      <th>lift</th>\n",
       "      <th>neighbourhood</th>\n",
       "    </tr>\n",
       "  </thead>\n",
       "  <tbody>\n",
       "    <tr>\n",
       "      <th>0</th>\n",
       "      <td>42208</td>\n",
       "      <td>3</td>\n",
       "      <td>BHK</td>\n",
       "      <td>Independent House</td>\n",
       "      <td>Palavakkam</td>\n",
       "      <td>33624</td>\n",
       "      <td>1312</td>\n",
       "      <td>Furnished</td>\n",
       "      <td>2</td>\n",
       "      <td>Chennai</td>\n",
       "      <td>1</td>\n",
       "      <td>1</td>\n",
       "      <td>1</td>\n",
       "      <td>0</td>\n",
       "      <td>0</td>\n",
       "      <td>1</td>\n",
       "      <td>0</td>\n",
       "      <td>302616</td>\n",
       "      <td>0</td>\n",
       "      <td>0</td>\n",
       "      <td>300</td>\n",
       "    </tr>\n",
       "    <tr>\n",
       "      <th>1</th>\n",
       "      <td>90879</td>\n",
       "      <td>1</td>\n",
       "      <td>BHK</td>\n",
       "      <td>Apartment</td>\n",
       "      <td>Manikonda</td>\n",
       "      <td>9655</td>\n",
       "      <td>1474</td>\n",
       "      <td>Unfurnished</td>\n",
       "      <td>2</td>\n",
       "      <td>Hyderabad</td>\n",
       "      <td>0</td>\n",
       "      <td>17</td>\n",
       "      <td>0</td>\n",
       "      <td>1</td>\n",
       "      <td>0</td>\n",
       "      <td>0</td>\n",
       "      <td>1</td>\n",
       "      <td>19310</td>\n",
       "      <td>0</td>\n",
       "      <td>1</td>\n",
       "      <td>1600</td>\n",
       "    </tr>\n",
       "    <tr>\n",
       "      <th>2</th>\n",
       "      <td>99943</td>\n",
       "      <td>3</td>\n",
       "      <td>BHK</td>\n",
       "      <td>Apartment</td>\n",
       "      <td>Jodhpur Park</td>\n",
       "      <td>23699</td>\n",
       "      <td>1837</td>\n",
       "      <td>Semi-Furnished</td>\n",
       "      <td>2</td>\n",
       "      <td>Kolkata</td>\n",
       "      <td>0</td>\n",
       "      <td>10</td>\n",
       "      <td>1</td>\n",
       "      <td>1</td>\n",
       "      <td>1</td>\n",
       "      <td>1</td>\n",
       "      <td>0</td>\n",
       "      <td>118495</td>\n",
       "      <td>0</td>\n",
       "      <td>1</td>\n",
       "      <td>3100</td>\n",
       "    </tr>\n",
       "    <tr>\n",
       "      <th>3</th>\n",
       "      <td>113926</td>\n",
       "      <td>1</td>\n",
       "      <td>BHK</td>\n",
       "      <td>Apartment</td>\n",
       "      <td>Chembur</td>\n",
       "      <td>6306</td>\n",
       "      <td>606</td>\n",
       "      <td>Unfurnished</td>\n",
       "      <td>1</td>\n",
       "      <td>Mumbai</td>\n",
       "      <td>0</td>\n",
       "      <td>18</td>\n",
       "      <td>0</td>\n",
       "      <td>0</td>\n",
       "      <td>0</td>\n",
       "      <td>0</td>\n",
       "      <td>0</td>\n",
       "      <td>37836</td>\n",
       "      <td>0</td>\n",
       "      <td>1</td>\n",
       "      <td>300</td>\n",
       "    </tr>\n",
       "    <tr>\n",
       "      <th>4</th>\n",
       "      <td>185438</td>\n",
       "      <td>1</td>\n",
       "      <td>BHK</td>\n",
       "      <td>Studio Apartment</td>\n",
       "      <td>Kalewadi Pandhapur Road</td>\n",
       "      <td>12008</td>\n",
       "      <td>498</td>\n",
       "      <td>Semi-Furnished</td>\n",
       "      <td>3</td>\n",
       "      <td>Pune</td>\n",
       "      <td>0</td>\n",
       "      <td>14</td>\n",
       "      <td>0</td>\n",
       "      <td>0</td>\n",
       "      <td>1</td>\n",
       "      <td>1</td>\n",
       "      <td>0</td>\n",
       "      <td>72048</td>\n",
       "      <td>0</td>\n",
       "      <td>1</td>\n",
       "      <td>0</td>\n",
       "    </tr>\n",
       "    <tr>\n",
       "      <th>...</th>\n",
       "      <td>...</td>\n",
       "      <td>...</td>\n",
       "      <td>...</td>\n",
       "      <td>...</td>\n",
       "      <td>...</td>\n",
       "      <td>...</td>\n",
       "      <td>...</td>\n",
       "      <td>...</td>\n",
       "      <td>...</td>\n",
       "      <td>...</td>\n",
       "      <td>...</td>\n",
       "      <td>...</td>\n",
       "      <td>...</td>\n",
       "      <td>...</td>\n",
       "      <td>...</td>\n",
       "      <td>...</td>\n",
       "      <td>...</td>\n",
       "      <td>...</td>\n",
       "      <td>...</td>\n",
       "      <td>...</td>\n",
       "      <td>...</td>\n",
       "    </tr>\n",
       "    <tr>\n",
       "      <th>134678</th>\n",
       "      <td>152316</td>\n",
       "      <td>3</td>\n",
       "      <td>BHK</td>\n",
       "      <td>Independent Floor</td>\n",
       "      <td>Seawoods</td>\n",
       "      <td>222987</td>\n",
       "      <td>641</td>\n",
       "      <td>Unfurnished</td>\n",
       "      <td>1</td>\n",
       "      <td>Mumbai</td>\n",
       "      <td>1</td>\n",
       "      <td>19</td>\n",
       "      <td>1</td>\n",
       "      <td>0</td>\n",
       "      <td>0</td>\n",
       "      <td>0</td>\n",
       "      <td>1</td>\n",
       "      <td>1783896</td>\n",
       "      <td>1</td>\n",
       "      <td>1</td>\n",
       "      <td>3900</td>\n",
       "    </tr>\n",
       "    <tr>\n",
       "      <th>134679</th>\n",
       "      <td>176964</td>\n",
       "      <td>1</td>\n",
       "      <td>BHK</td>\n",
       "      <td>Independent Floor</td>\n",
       "      <td>Aundh</td>\n",
       "      <td>6958</td>\n",
       "      <td>619</td>\n",
       "      <td>Unfurnished</td>\n",
       "      <td>2</td>\n",
       "      <td>Pune</td>\n",
       "      <td>0</td>\n",
       "      <td>2</td>\n",
       "      <td>1</td>\n",
       "      <td>1</td>\n",
       "      <td>0</td>\n",
       "      <td>0</td>\n",
       "      <td>1</td>\n",
       "      <td>62622</td>\n",
       "      <td>0</td>\n",
       "      <td>0</td>\n",
       "      <td>1200</td>\n",
       "    </tr>\n",
       "    <tr>\n",
       "      <th>134680</th>\n",
       "      <td>117953</td>\n",
       "      <td>3</td>\n",
       "      <td>BHK</td>\n",
       "      <td>Apartment</td>\n",
       "      <td>Bandra West</td>\n",
       "      <td>85812</td>\n",
       "      <td>2279</td>\n",
       "      <td>Semi-Furnished</td>\n",
       "      <td>3</td>\n",
       "      <td>Mumbai</td>\n",
       "      <td>1</td>\n",
       "      <td>5</td>\n",
       "      <td>0</td>\n",
       "      <td>1</td>\n",
       "      <td>1</td>\n",
       "      <td>1</td>\n",
       "      <td>0</td>\n",
       "      <td>429060</td>\n",
       "      <td>0</td>\n",
       "      <td>0</td>\n",
       "      <td>3900</td>\n",
       "    </tr>\n",
       "    <tr>\n",
       "      <th>134681</th>\n",
       "      <td>173686</td>\n",
       "      <td>1</td>\n",
       "      <td>BHK</td>\n",
       "      <td>Apartment</td>\n",
       "      <td>Hinjewadi</td>\n",
       "      <td>15919</td>\n",
       "      <td>1314</td>\n",
       "      <td>Unfurnished</td>\n",
       "      <td>2</td>\n",
       "      <td>Pune</td>\n",
       "      <td>0</td>\n",
       "      <td>14</td>\n",
       "      <td>0</td>\n",
       "      <td>1</td>\n",
       "      <td>0</td>\n",
       "      <td>0</td>\n",
       "      <td>0</td>\n",
       "      <td>79595</td>\n",
       "      <td>0</td>\n",
       "      <td>1</td>\n",
       "      <td>2300</td>\n",
       "    </tr>\n",
       "    <tr>\n",
       "      <th>134682</th>\n",
       "      <td>43568</td>\n",
       "      <td>1</td>\n",
       "      <td>RK</td>\n",
       "      <td>Independent Floor</td>\n",
       "      <td>Kodambakkam</td>\n",
       "      <td>37021</td>\n",
       "      <td>798</td>\n",
       "      <td>Semi-Furnished</td>\n",
       "      <td>2</td>\n",
       "      <td>Chennai</td>\n",
       "      <td>0</td>\n",
       "      <td>8</td>\n",
       "      <td>0</td>\n",
       "      <td>0</td>\n",
       "      <td>1</td>\n",
       "      <td>1</td>\n",
       "      <td>1</td>\n",
       "      <td>74042</td>\n",
       "      <td>0</td>\n",
       "      <td>1</td>\n",
       "      <td>3600</td>\n",
       "    </tr>\n",
       "  </tbody>\n",
       "</table>\n",
       "<p>134683 rows × 21 columns</p>\n",
       "</div>"
      ],
      "text/plain": [
       "        Property_ID  room layout_type      property_type  \\\n",
       "0             42208     3         BHK  Independent House   \n",
       "1             90879     1         BHK          Apartment   \n",
       "2             99943     3         BHK          Apartment   \n",
       "3            113926     1         BHK          Apartment   \n",
       "4            185438     1         BHK   Studio Apartment   \n",
       "...             ...   ...         ...                ...   \n",
       "134678       152316     3         BHK  Independent Floor   \n",
       "134679       176964     1         BHK  Independent Floor   \n",
       "134680       117953     3         BHK          Apartment   \n",
       "134681       173686     1         BHK          Apartment   \n",
       "134682        43568     1          RK  Independent Floor   \n",
       "\n",
       "                       locality   price  area    furnish_type  bathroom  \\\n",
       "0                    Palavakkam   33624  1312       Furnished         2   \n",
       "1                     Manikonda    9655  1474     Unfurnished         2   \n",
       "2                  Jodhpur Park   23699  1837  Semi-Furnished         2   \n",
       "3                       Chembur    6306   606     Unfurnished         1   \n",
       "4       Kalewadi Pandhapur Road   12008   498  Semi-Furnished         3   \n",
       "...                         ...     ...   ...             ...       ...   \n",
       "134678                 Seawoods  222987   641     Unfurnished         1   \n",
       "134679                    Aundh    6958   619     Unfurnished         2   \n",
       "134680              Bandra West   85812  2279  Semi-Furnished         3   \n",
       "134681                Hinjewadi   15919  1314     Unfurnished         2   \n",
       "134682              Kodambakkam   37021   798  Semi-Furnished         2   \n",
       "\n",
       "             city  parking_spaces  floor  pet_friendly  power_backup  \\\n",
       "0         Chennai               1      1             1             0   \n",
       "1       Hyderabad               0     17             0             1   \n",
       "2         Kolkata               0     10             1             1   \n",
       "3          Mumbai               0     18             0             0   \n",
       "4            Pune               0     14             0             0   \n",
       "...           ...             ...    ...           ...           ...   \n",
       "134678     Mumbai               1     19             1             0   \n",
       "134679       Pune               0      2             1             1   \n",
       "134680     Mumbai               1      5             0             1   \n",
       "134681       Pune               0     14             0             1   \n",
       "134682    Chennai               0      8             0             0   \n",
       "\n",
       "        washing_machine  air_conditioner  geyser/solar  security_deposit  \\\n",
       "0                     0                1             0            302616   \n",
       "1                     0                0             1             19310   \n",
       "2                     1                1             0            118495   \n",
       "3                     0                0             0             37836   \n",
       "4                     1                1             0             72048   \n",
       "...                 ...              ...           ...               ...   \n",
       "134678                0                0             1           1783896   \n",
       "134679                0                0             1             62622   \n",
       "134680                1                1             0            429060   \n",
       "134681                0                0             0             79595   \n",
       "134682                1                1             1             74042   \n",
       "\n",
       "        CCTV/security  lift  neighbourhood  \n",
       "0                   0     0            300  \n",
       "1                   0     1           1600  \n",
       "2                   0     1           3100  \n",
       "3                   0     1            300  \n",
       "4                   0     1              0  \n",
       "...               ...   ...            ...  \n",
       "134678              1     1           3900  \n",
       "134679              0     0           1200  \n",
       "134680              0     0           3900  \n",
       "134681              0     1           2300  \n",
       "134682              0     1           3600  \n",
       "\n",
       "[134683 rows x 21 columns]"
      ]
     },
     "execution_count": 40,
     "metadata": {},
     "output_type": "execute_result"
    }
   ],
   "source": [
    "train_data"
   ]
  },
  {
   "cell_type": "code",
   "execution_count": 25,
   "metadata": {},
   "outputs": [],
   "source": [
    "test_data = pd.read_csv(r\"Participants_data_DSSC_SZ\\test.csv\")"
   ]
  },
  {
   "cell_type": "code",
   "execution_count": 27,
   "metadata": {},
   "outputs": [
    {
     "data": {
      "text/plain": [
       "(134683, 21)"
      ]
     },
     "execution_count": 27,
     "metadata": {},
     "output_type": "execute_result"
    }
   ],
   "source": [
    "train_data.shape"
   ]
  },
  {
   "cell_type": "code",
   "execution_count": 28,
   "metadata": {},
   "outputs": [
    {
     "data": {
      "text/plain": [
       "(57722, 21)"
      ]
     },
     "execution_count": 28,
     "metadata": {},
     "output_type": "execute_result"
    }
   ],
   "source": [
    "test_data.shape"
   ]
  },
  {
   "cell_type": "code",
   "execution_count": 29,
   "metadata": {},
   "outputs": [
    {
     "data": {
      "text/plain": [
       "2049      1\n",
       "80882     1\n",
       "76784     1\n",
       "119791    1\n",
       "115693    1\n",
       "         ..\n",
       "26150     1\n",
       "32293     1\n",
       "20003     1\n",
       "17954     1\n",
       "2047      1\n",
       "Name: Property_ID, Length: 134683, dtype: int64"
      ]
     },
     "execution_count": 29,
     "metadata": {},
     "output_type": "execute_result"
    }
   ],
   "source": [
    "train_data.Property_ID.value_counts()"
   ]
  },
  {
   "cell_type": "code",
   "execution_count": 30,
   "metadata": {},
   "outputs": [
    {
     "data": {
      "text/plain": [
       "1    47908\n",
       "2    43235\n",
       "3    36125\n",
       "4     6465\n",
       "5      950\n",
       "Name: room, dtype: int64"
      ]
     },
     "execution_count": 30,
     "metadata": {},
     "output_type": "execute_result"
    }
   ],
   "source": [
    "train_data.room.value_counts()"
   ]
  },
  {
   "cell_type": "code",
   "execution_count": 31,
   "metadata": {},
   "outputs": [
    {
     "data": {
      "text/plain": [
       "BHK    114684\n",
       "RK      19999\n",
       "Name: layout_type, dtype: int64"
      ]
     },
     "execution_count": 31,
     "metadata": {},
     "output_type": "execute_result"
    }
   ],
   "source": [
    "train_data.layout_type.value_counts()"
   ]
  },
  {
   "cell_type": "code",
   "execution_count": 32,
   "metadata": {},
   "outputs": [
    {
     "data": {
      "text/plain": [
       "Apartment            86819\n",
       "Independent Floor    25850\n",
       "Independent House    13408\n",
       "Studio Apartment      5723\n",
       "Villa                 2391\n",
       "Penthouse              492\n",
       "Name: property_type, dtype: int64"
      ]
     },
     "execution_count": 32,
     "metadata": {},
     "output_type": "execute_result"
    }
   ],
   "source": [
    "train_data.property_type.value_counts()"
   ]
  },
  {
   "cell_type": "code",
   "execution_count": 33,
   "metadata": {},
   "outputs": [
    {
     "data": {
      "text/plain": [
       "Thane West           3127\n",
       "Chembur              2461\n",
       "Andheri East         2377\n",
       "Bopal                2054\n",
       "Kharghar             1819\n",
       "                     ... \n",
       "Prem Nagar              1\n",
       "Vittal Nagar            1\n",
       "Action Area 1B          1\n",
       "Sathya Sai Layout       1\n",
       "Charkop Gaon            1\n",
       "Name: locality, Length: 3706, dtype: int64"
      ]
     },
     "execution_count": 33,
     "metadata": {},
     "output_type": "execute_result"
    }
   ],
   "source": [
    "train_data.locality.value_counts()"
   ]
  },
  {
   "cell_type": "code",
   "execution_count": 34,
   "metadata": {},
   "outputs": [
    {
     "data": {
      "text/plain": [
       "786     205\n",
       "747     204\n",
       "764     203\n",
       "768     203\n",
       "771     202\n",
       "       ... \n",
       "5685      1\n",
       "7732      1\n",
       "4362      1\n",
       "9651      1\n",
       "9268      1\n",
       "Name: area, Length: 7790, dtype: int64"
      ]
     },
     "execution_count": 34,
     "metadata": {},
     "output_type": "execute_result"
    }
   ],
   "source": [
    "train_data.area.value_counts()"
   ]
  },
  {
   "cell_type": "code",
   "execution_count": 35,
   "metadata": {},
   "outputs": [
    {
     "data": {
      "text/plain": [
       "Semi-Furnished    63646\n",
       "Unfurnished       41398\n",
       "Furnished         29639\n",
       "Name: furnish_type, dtype: int64"
      ]
     },
     "execution_count": 35,
     "metadata": {},
     "output_type": "execute_result"
    }
   ],
   "source": [
    "train_data.furnish_type.value_counts()"
   ]
  },
  {
   "cell_type": "code",
   "execution_count": 36,
   "metadata": {},
   "outputs": [
    {
     "data": {
      "text/plain": [
       "2    71779\n",
       "1    34560\n",
       "3    18457\n",
       "4     8105\n",
       "5     1782\n",
       "Name: bathroom, dtype: int64"
      ]
     },
     "execution_count": 36,
     "metadata": {},
     "output_type": "execute_result"
    }
   ],
   "source": [
    "train_data.bathroom.value_counts()"
   ]
  },
  {
   "cell_type": "code",
   "execution_count": 37,
   "metadata": {},
   "outputs": [
    {
     "data": {
      "text/plain": [
       "Mumbai       46910\n",
       "Delhi        22826\n",
       "Bangalore    16092\n",
       "Pune         15713\n",
       "Ahmedabad    12976\n",
       "Hyderabad     7334\n",
       "Kolkata       6795\n",
       "Chennai       6037\n",
       "Name: city, dtype: int64"
      ]
     },
     "execution_count": 37,
     "metadata": {},
     "output_type": "execute_result"
    }
   ],
   "source": [
    "train_data.city.value_counts()"
   ]
  },
  {
   "cell_type": "code",
   "execution_count": 41,
   "metadata": {},
   "outputs": [
    {
     "data": {
      "text/plain": [
       "1    71973\n",
       "0    62710\n",
       "Name: parking_spaces, dtype: int64"
      ]
     },
     "execution_count": 41,
     "metadata": {},
     "output_type": "execute_result"
    }
   ],
   "source": [
    "train_data.parking_spaces.value_counts()"
   ]
  },
  {
   "cell_type": "code",
   "execution_count": 42,
   "metadata": {},
   "outputs": [
    {
     "data": {
      "text/plain": [
       "2     12623\n",
       "3      8864\n",
       "4      8295\n",
       "17     8102\n",
       "19     7220\n",
       "1      7087\n",
       "15     7020\n",
       "5      6959\n",
       "16     6456\n",
       "10     6319\n",
       "11     6229\n",
       "18     6121\n",
       "12     5925\n",
       "6      5857\n",
       "13     5791\n",
       "9      5715\n",
       "8      5257\n",
       "14     5161\n",
       "7      4935\n",
       "0      4747\n",
       "Name: floor, dtype: int64"
      ]
     },
     "execution_count": 42,
     "metadata": {},
     "output_type": "execute_result"
    }
   ],
   "source": [
    "train_data.floor.value_counts()"
   ]
  },
  {
   "cell_type": "code",
   "execution_count": 43,
   "metadata": {},
   "outputs": [
    {
     "data": {
      "text/plain": [
       "1    71059\n",
       "0    63624\n",
       "Name: pet_friendly, dtype: int64"
      ]
     },
     "execution_count": 43,
     "metadata": {},
     "output_type": "execute_result"
    }
   ],
   "source": [
    "train_data.pet_friendly.value_counts()"
   ]
  },
  {
   "cell_type": "code",
   "execution_count": 44,
   "metadata": {},
   "outputs": [
    {
     "data": {
      "text/plain": [
       "0    89288\n",
       "1    45395\n",
       "Name: power_backup, dtype: int64"
      ]
     },
     "execution_count": 44,
     "metadata": {},
     "output_type": "execute_result"
    }
   ],
   "source": [
    "train_data.power_backup.value_counts()"
   ]
  },
  {
   "cell_type": "code",
   "execution_count": 45,
   "metadata": {},
   "outputs": [
    {
     "data": {
      "text/plain": [
       "0    71037\n",
       "1    63646\n",
       "Name: washing_machine, dtype: int64"
      ]
     },
     "execution_count": 45,
     "metadata": {},
     "output_type": "execute_result"
    }
   ],
   "source": [
    "train_data.washing_machine.value_counts()"
   ]
  },
  {
   "cell_type": "code",
   "execution_count": 46,
   "metadata": {},
   "outputs": [
    {
     "data": {
      "text/plain": [
       "1    93285\n",
       "0    41398\n",
       "Name: air_conditioner, dtype: int64"
      ]
     },
     "execution_count": 46,
     "metadata": {},
     "output_type": "execute_result"
    }
   ],
   "source": [
    "train_data.air_conditioner.value_counts()"
   ]
  },
  {
   "cell_type": "code",
   "execution_count": 47,
   "metadata": {},
   "outputs": [
    {
     "data": {
      "text/plain": [
       "0    75404\n",
       "1    59279\n",
       "Name: geyser/solar, dtype: int64"
      ]
     },
     "execution_count": 47,
     "metadata": {},
     "output_type": "execute_result"
    }
   ],
   "source": [
    "train_data['geyser/solar'].value_counts()"
   ]
  },
  {
   "cell_type": "code",
   "execution_count": 48,
   "metadata": {},
   "outputs": [
    {
     "data": {
      "text/plain": [
       "32256      10\n",
       "118440      9\n",
       "98168       9\n",
       "42660       9\n",
       "47100       9\n",
       "           ..\n",
       "54296       1\n",
       "100992      1\n",
       "1993340     1\n",
       "143991      1\n",
       "204636      1\n",
       "Name: security_deposit, Length: 95810, dtype: int64"
      ]
     },
     "execution_count": 48,
     "metadata": {},
     "output_type": "execute_result"
    }
   ],
   "source": [
    "train_data.security_deposit.value_counts()"
   ]
  },
  {
   "cell_type": "code",
   "execution_count": 49,
   "metadata": {},
   "outputs": [
    {
     "data": {
      "text/plain": [
       "1    75670\n",
       "0    59013\n",
       "Name: CCTV/security, dtype: int64"
      ]
     },
     "execution_count": 49,
     "metadata": {},
     "output_type": "execute_result"
    }
   ],
   "source": [
    "train_data['CCTV/security'].value_counts()"
   ]
  },
  {
   "cell_type": "code",
   "execution_count": 50,
   "metadata": {},
   "outputs": [
    {
     "data": {
      "text/plain": [
       "1    80251\n",
       "0    54432\n",
       "Name: lift, dtype: int64"
      ]
     },
     "execution_count": 50,
     "metadata": {},
     "output_type": "execute_result"
    }
   ],
   "source": [
    "train_data.lift.value_counts()"
   ]
  },
  {
   "cell_type": "code",
   "execution_count": 51,
   "metadata": {},
   "outputs": [
    {
     "data": {
      "text/plain": [
       "3900    5624\n",
       "100     5212\n",
       "1800    4096\n",
       "1600    4038\n",
       "1700    4038\n",
       "1400    3908\n",
       "1500    3868\n",
       "1900    3854\n",
       "2000    3790\n",
       "1300    3682\n",
       "3600    3658\n",
       "3500    3550\n",
       "1200    3517\n",
       "2100    3377\n",
       "2200    3339\n",
       "3400    3338\n",
       "1000    3311\n",
       "3700    3296\n",
       "1100    3286\n",
       "2300    3224\n",
       "900     3160\n",
       "2900    3132\n",
       "2800    3093\n",
       "2400    3084\n",
       "3000    3081\n",
       "2700    3080\n",
       "3300    3049\n",
       "3100    3016\n",
       "3200    3010\n",
       "700     2962\n",
       "800     2906\n",
       "2600    2904\n",
       "2500    2848\n",
       "3800    2838\n",
       "400     2658\n",
       "600     2620\n",
       "300     2556\n",
       "500     2504\n",
       "200     2257\n",
       "4000    2003\n",
       "0       1916\n",
       "Name: neighbourhood, dtype: int64"
      ]
     },
     "execution_count": 51,
     "metadata": {},
     "output_type": "execute_result"
    }
   ],
   "source": [
    "train_data.neighbourhood.value_counts()"
   ]
  },
  {
   "cell_type": "code",
   "execution_count": 67,
   "metadata": {},
   "outputs": [
    {
     "data": {
      "text/plain": [
       "Property_ID           0\n",
       "room                  0\n",
       "layout_type           0\n",
       "property_type         0\n",
       "locality              0\n",
       "price                 0\n",
       "area                  0\n",
       "furnish_type          0\n",
       "bathroom              0\n",
       "city                  0\n",
       "parking_spaces        0\n",
       "floor                 0\n",
       "pet_friendly          0\n",
       "power_backup          0\n",
       "washing_machine       0\n",
       "air_conditioner       0\n",
       "geyser/solar          0\n",
       "security_deposit      0\n",
       "CCTV/security         0\n",
       "lift                  0\n",
       "neighbourhood         0\n",
       "layout_type_n         0\n",
       "property_type_n       0\n",
       "locality_n            0\n",
       "furnish_type_n        0\n",
       "city_n                0\n",
       "security_deposit_n    0\n",
       "neighbourhood_n       0\n",
       "dtype: int64"
      ]
     },
     "execution_count": 67,
     "metadata": {},
     "output_type": "execute_result"
    }
   ],
   "source": [
    "train_data.isnull().sum()"
   ]
  },
  {
   "cell_type": "code",
   "execution_count": 52,
   "metadata": {},
   "outputs": [],
   "source": [
    "from sklearn.preprocessing import LabelEncoder"
   ]
  },
  {
   "cell_type": "code",
   "execution_count": 63,
   "metadata": {},
   "outputs": [],
   "source": [
    "le1 = LabelEncoder()\n",
    "le2 = LabelEncoder()\n",
    "le3 = LabelEncoder()\n",
    "le4 = LabelEncoder()\n",
    "le5 = LabelEncoder()\n",
    "le6 = LabelEncoder()"
   ]
  },
  {
   "cell_type": "code",
   "execution_count": 64,
   "metadata": {},
   "outputs": [],
   "source": [
    "train_data['layout_type_n'] = le1.fit_transform(train_data['layout_type'])\n",
    "train_data['property_type_n'] = le2.fit_transform(train_data['property_type'])\n",
    "train_data['locality_n'] = le3.fit_transform(train_data['locality'])\n",
    "train_data['furnish_type_n'] = le4.fit_transform(train_data['furnish_type'])\n",
    "train_data['city_n'] = le5.fit_transform(train_data['city'])\n",
    "train_data['neighbourhood_n'] = le6.fit_transform(train_data['neighbourhood'])"
   ]
  },
  {
   "cell_type": "code",
   "execution_count": 65,
   "metadata": {},
   "outputs": [
    {
     "data": {
      "text/html": [
       "<div>\n",
       "<style scoped>\n",
       "    .dataframe tbody tr th:only-of-type {\n",
       "        vertical-align: middle;\n",
       "    }\n",
       "\n",
       "    .dataframe tbody tr th {\n",
       "        vertical-align: top;\n",
       "    }\n",
       "\n",
       "    .dataframe thead th {\n",
       "        text-align: right;\n",
       "    }\n",
       "</style>\n",
       "<table border=\"1\" class=\"dataframe\">\n",
       "  <thead>\n",
       "    <tr style=\"text-align: right;\">\n",
       "      <th></th>\n",
       "      <th>Property_ID</th>\n",
       "      <th>room</th>\n",
       "      <th>layout_type</th>\n",
       "      <th>property_type</th>\n",
       "      <th>locality</th>\n",
       "      <th>price</th>\n",
       "      <th>area</th>\n",
       "      <th>furnish_type</th>\n",
       "      <th>bathroom</th>\n",
       "      <th>city</th>\n",
       "      <th>parking_spaces</th>\n",
       "      <th>floor</th>\n",
       "      <th>pet_friendly</th>\n",
       "      <th>power_backup</th>\n",
       "      <th>washing_machine</th>\n",
       "      <th>air_conditioner</th>\n",
       "      <th>geyser/solar</th>\n",
       "      <th>security_deposit</th>\n",
       "      <th>CCTV/security</th>\n",
       "      <th>lift</th>\n",
       "      <th>neighbourhood</th>\n",
       "      <th>layout_type_n</th>\n",
       "      <th>property_type_n</th>\n",
       "      <th>locality_n</th>\n",
       "      <th>furnish_type_n</th>\n",
       "      <th>city_n</th>\n",
       "      <th>security_deposit_n</th>\n",
       "      <th>neighbourhood_n</th>\n",
       "    </tr>\n",
       "  </thead>\n",
       "  <tbody>\n",
       "    <tr>\n",
       "      <th>0</th>\n",
       "      <td>42208</td>\n",
       "      <td>3</td>\n",
       "      <td>BHK</td>\n",
       "      <td>Independent House</td>\n",
       "      <td>Palavakkam</td>\n",
       "      <td>33624</td>\n",
       "      <td>1312</td>\n",
       "      <td>Furnished</td>\n",
       "      <td>2</td>\n",
       "      <td>Chennai</td>\n",
       "      <td>1</td>\n",
       "      <td>1</td>\n",
       "      <td>1</td>\n",
       "      <td>0</td>\n",
       "      <td>0</td>\n",
       "      <td>1</td>\n",
       "      <td>0</td>\n",
       "      <td>302616</td>\n",
       "      <td>0</td>\n",
       "      <td>0</td>\n",
       "      <td>300</td>\n",
       "      <td>0</td>\n",
       "      <td>2</td>\n",
       "      <td>2336</td>\n",
       "      <td>0</td>\n",
       "      <td>2</td>\n",
       "      <td>74940</td>\n",
       "      <td>3</td>\n",
       "    </tr>\n",
       "    <tr>\n",
       "      <th>1</th>\n",
       "      <td>90879</td>\n",
       "      <td>1</td>\n",
       "      <td>BHK</td>\n",
       "      <td>Apartment</td>\n",
       "      <td>Manikonda</td>\n",
       "      <td>9655</td>\n",
       "      <td>1474</td>\n",
       "      <td>Unfurnished</td>\n",
       "      <td>2</td>\n",
       "      <td>Hyderabad</td>\n",
       "      <td>0</td>\n",
       "      <td>17</td>\n",
       "      <td>0</td>\n",
       "      <td>1</td>\n",
       "      <td>0</td>\n",
       "      <td>0</td>\n",
       "      <td>1</td>\n",
       "      <td>19310</td>\n",
       "      <td>0</td>\n",
       "      <td>1</td>\n",
       "      <td>1600</td>\n",
       "      <td>0</td>\n",
       "      <td>0</td>\n",
       "      <td>1893</td>\n",
       "      <td>2</td>\n",
       "      <td>4</td>\n",
       "      <td>4612</td>\n",
       "      <td>16</td>\n",
       "    </tr>\n",
       "    <tr>\n",
       "      <th>2</th>\n",
       "      <td>99943</td>\n",
       "      <td>3</td>\n",
       "      <td>BHK</td>\n",
       "      <td>Apartment</td>\n",
       "      <td>Jodhpur Park</td>\n",
       "      <td>23699</td>\n",
       "      <td>1837</td>\n",
       "      <td>Semi-Furnished</td>\n",
       "      <td>2</td>\n",
       "      <td>Kolkata</td>\n",
       "      <td>0</td>\n",
       "      <td>10</td>\n",
       "      <td>1</td>\n",
       "      <td>1</td>\n",
       "      <td>1</td>\n",
       "      <td>1</td>\n",
       "      <td>0</td>\n",
       "      <td>118495</td>\n",
       "      <td>0</td>\n",
       "      <td>1</td>\n",
       "      <td>3100</td>\n",
       "      <td>0</td>\n",
       "      <td>0</td>\n",
       "      <td>1329</td>\n",
       "      <td>1</td>\n",
       "      <td>5</td>\n",
       "      <td>42403</td>\n",
       "      <td>31</td>\n",
       "    </tr>\n",
       "    <tr>\n",
       "      <th>3</th>\n",
       "      <td>113926</td>\n",
       "      <td>1</td>\n",
       "      <td>BHK</td>\n",
       "      <td>Apartment</td>\n",
       "      <td>Chembur</td>\n",
       "      <td>6306</td>\n",
       "      <td>606</td>\n",
       "      <td>Unfurnished</td>\n",
       "      <td>1</td>\n",
       "      <td>Mumbai</td>\n",
       "      <td>0</td>\n",
       "      <td>18</td>\n",
       "      <td>0</td>\n",
       "      <td>0</td>\n",
       "      <td>0</td>\n",
       "      <td>0</td>\n",
       "      <td>0</td>\n",
       "      <td>37836</td>\n",
       "      <td>0</td>\n",
       "      <td>1</td>\n",
       "      <td>300</td>\n",
       "      <td>0</td>\n",
       "      <td>0</td>\n",
       "      <td>621</td>\n",
       "      <td>2</td>\n",
       "      <td>6</td>\n",
       "      <td>12643</td>\n",
       "      <td>3</td>\n",
       "    </tr>\n",
       "    <tr>\n",
       "      <th>4</th>\n",
       "      <td>185438</td>\n",
       "      <td>1</td>\n",
       "      <td>BHK</td>\n",
       "      <td>Studio Apartment</td>\n",
       "      <td>Kalewadi Pandhapur Road</td>\n",
       "      <td>12008</td>\n",
       "      <td>498</td>\n",
       "      <td>Semi-Furnished</td>\n",
       "      <td>3</td>\n",
       "      <td>Pune</td>\n",
       "      <td>0</td>\n",
       "      <td>14</td>\n",
       "      <td>0</td>\n",
       "      <td>0</td>\n",
       "      <td>1</td>\n",
       "      <td>1</td>\n",
       "      <td>0</td>\n",
       "      <td>72048</td>\n",
       "      <td>0</td>\n",
       "      <td>1</td>\n",
       "      <td>0</td>\n",
       "      <td>0</td>\n",
       "      <td>4</td>\n",
       "      <td>1397</td>\n",
       "      <td>1</td>\n",
       "      <td>7</td>\n",
       "      <td>26530</td>\n",
       "      <td>0</td>\n",
       "    </tr>\n",
       "  </tbody>\n",
       "</table>\n",
       "</div>"
      ],
      "text/plain": [
       "   Property_ID  room layout_type      property_type                 locality  \\\n",
       "0        42208     3         BHK  Independent House               Palavakkam   \n",
       "1        90879     1         BHK          Apartment                Manikonda   \n",
       "2        99943     3         BHK          Apartment             Jodhpur Park   \n",
       "3       113926     1         BHK          Apartment                  Chembur   \n",
       "4       185438     1         BHK   Studio Apartment  Kalewadi Pandhapur Road   \n",
       "\n",
       "   price  area    furnish_type  bathroom       city  parking_spaces  floor  \\\n",
       "0  33624  1312       Furnished         2    Chennai               1      1   \n",
       "1   9655  1474     Unfurnished         2  Hyderabad               0     17   \n",
       "2  23699  1837  Semi-Furnished         2    Kolkata               0     10   \n",
       "3   6306   606     Unfurnished         1     Mumbai               0     18   \n",
       "4  12008   498  Semi-Furnished         3       Pune               0     14   \n",
       "\n",
       "   pet_friendly  power_backup  washing_machine  air_conditioner  geyser/solar  \\\n",
       "0             1             0                0                1             0   \n",
       "1             0             1                0                0             1   \n",
       "2             1             1                1                1             0   \n",
       "3             0             0                0                0             0   \n",
       "4             0             0                1                1             0   \n",
       "\n",
       "   security_deposit  CCTV/security  lift  neighbourhood  layout_type_n  \\\n",
       "0            302616              0     0            300              0   \n",
       "1             19310              0     1           1600              0   \n",
       "2            118495              0     1           3100              0   \n",
       "3             37836              0     1            300              0   \n",
       "4             72048              0     1              0              0   \n",
       "\n",
       "   property_type_n  locality_n  furnish_type_n  city_n  security_deposit_n  \\\n",
       "0                2        2336               0       2               74940   \n",
       "1                0        1893               2       4                4612   \n",
       "2                0        1329               1       5               42403   \n",
       "3                0         621               2       6               12643   \n",
       "4                4        1397               1       7               26530   \n",
       "\n",
       "   neighbourhood_n  \n",
       "0                3  \n",
       "1               16  \n",
       "2               31  \n",
       "3                3  \n",
       "4                0  "
      ]
     },
     "execution_count": 65,
     "metadata": {},
     "output_type": "execute_result"
    }
   ],
   "source": [
    "train_data.head()"
   ]
  },
  {
   "cell_type": "code",
   "execution_count": 56,
   "metadata": {},
   "outputs": [],
   "source": [
    "from sklearn.model_selection import train_test_split"
   ]
  },
  {
   "cell_type": "code",
   "execution_count": 66,
   "metadata": {},
   "outputs": [
    {
     "data": {
      "text/plain": [
       "Index(['Property_ID', 'room', 'layout_type', 'property_type', 'locality',\n",
       "       'price', 'area', 'furnish_type', 'bathroom', 'city', 'parking_spaces',\n",
       "       'floor', 'pet_friendly', 'power_backup', 'washing_machine',\n",
       "       'air_conditioner', 'geyser/solar', 'security_deposit', 'CCTV/security',\n",
       "       'lift', 'neighbourhood', 'layout_type_n', 'property_type_n',\n",
       "       'locality_n', 'furnish_type_n', 'city_n', 'security_deposit_n',\n",
       "       'neighbourhood_n'],\n",
       "      dtype='object')"
      ]
     },
     "execution_count": 66,
     "metadata": {},
     "output_type": "execute_result"
    }
   ],
   "source": [
    "train_data.columns"
   ]
  },
  {
   "cell_type": "code",
   "execution_count": 1298,
   "metadata": {},
   "outputs": [],
   "source": [
    "x_train,x_test,y_train,y_test = train_test_split(train_data[[ 'room','furnish_type_n','city_n','bathroom','air_conditioner','power_backup','parking_spaces', 'washing_machine','security_deposit','lift',]],train_data['price'],test_size=0.4,random_state=42)"
   ]
  },
  {
   "cell_type": "code",
   "execution_count": 1299,
   "metadata": {},
   "outputs": [
    {
     "data": {
      "text/plain": [
       "(53874,)"
      ]
     },
     "execution_count": 1299,
     "metadata": {},
     "output_type": "execute_result"
    }
   ],
   "source": [
    "y_test.shape"
   ]
  },
  {
   "cell_type": "code",
   "execution_count": 1300,
   "metadata": {},
   "outputs": [],
   "source": [
    "from xgboost import XGBRegressor"
   ]
  },
  {
   "cell_type": "code",
   "execution_count": 1301,
   "metadata": {},
   "outputs": [],
   "source": [
    "xgb = XGBRegressor(learning_rate=0.05)"
   ]
  },
  {
   "cell_type": "code",
   "execution_count": 1302,
   "metadata": {},
   "outputs": [
    {
     "data": {
      "text/plain": [
       "XGBRegressor(base_score=0.5, booster='gbtree', colsample_bylevel=1,\n",
       "             colsample_bynode=1, colsample_bytree=1, gamma=0, gpu_id=-1,\n",
       "             importance_type='gain', interaction_constraints='',\n",
       "             learning_rate=0.05, max_delta_step=0, max_depth=6,\n",
       "             min_child_weight=1, missing=nan, monotone_constraints='()',\n",
       "             n_estimators=100, n_jobs=4, num_parallel_tree=1, random_state=0,\n",
       "             reg_alpha=0, reg_lambda=1, scale_pos_weight=1, subsample=1,\n",
       "             tree_method='exact', validate_parameters=1, verbosity=None)"
      ]
     },
     "execution_count": 1302,
     "metadata": {},
     "output_type": "execute_result"
    }
   ],
   "source": [
    "xgb.fit(x_train,y_train)"
   ]
  },
  {
   "cell_type": "code",
   "execution_count": 1303,
   "metadata": {},
   "outputs": [],
   "source": [
    "y_pred = xgb.predict(x_test)"
   ]
  },
  {
   "cell_type": "code",
   "execution_count": 1304,
   "metadata": {},
   "outputs": [],
   "source": [
    "from sklearn.metrics import mean_squared_error"
   ]
  },
  {
   "cell_type": "code",
   "execution_count": 1305,
   "metadata": {},
   "outputs": [
    {
     "name": "stdout",
     "output_type": "stream",
     "text": [
      "164.4535124675534 27044.957762915736\n"
     ]
    }
   ],
   "source": [
    "mse = mean_squared_error(y_test,y_pred,squared=False)\n",
    "rmse = np.sqrt(mse)\n",
    "print(rmse,mse)\n"
   ]
  },
  {
   "cell_type": "code",
   "execution_count": 122,
   "metadata": {},
   "outputs": [
    {
     "data": {
      "text/plain": [
       "128114      2669\n",
       "17353       6941\n",
       "81074     196649\n",
       "116115     19794\n",
       "75161       8419\n",
       "           ...  \n",
       "43993      21794\n",
       "45729       9556\n",
       "104473      6201\n",
       "97657       8803\n",
       "131872    135880\n",
       "Name: price, Length: 53874, dtype: int64"
      ]
     },
     "execution_count": 122,
     "metadata": {},
     "output_type": "execute_result"
    }
   ],
   "source": [
    "y_test"
   ]
  },
  {
   "cell_type": "code",
   "execution_count": 123,
   "metadata": {},
   "outputs": [
    {
     "data": {
      "text/plain": [
       "array([99245.44 , 23420.418, 48349.605, ..., 31331.84 , 18178.117,\n",
       "       31586.193], dtype=float32)"
      ]
     },
     "execution_count": 123,
     "metadata": {},
     "output_type": "execute_result"
    }
   ],
   "source": [
    "y_pred"
   ]
  },
  {
   "cell_type": "code",
   "execution_count": 124,
   "metadata": {},
   "outputs": [
    {
     "data": {
      "text/html": [
       "<div>\n",
       "<style scoped>\n",
       "    .dataframe tbody tr th:only-of-type {\n",
       "        vertical-align: middle;\n",
       "    }\n",
       "\n",
       "    .dataframe tbody tr th {\n",
       "        vertical-align: top;\n",
       "    }\n",
       "\n",
       "    .dataframe thead th {\n",
       "        text-align: right;\n",
       "    }\n",
       "</style>\n",
       "<table border=\"1\" class=\"dataframe\">\n",
       "  <thead>\n",
       "    <tr style=\"text-align: right;\">\n",
       "      <th></th>\n",
       "      <th>Property_ID</th>\n",
       "      <th>room</th>\n",
       "      <th>layout_type</th>\n",
       "      <th>property_type</th>\n",
       "      <th>locality</th>\n",
       "      <th>price</th>\n",
       "      <th>area</th>\n",
       "      <th>furnish_type</th>\n",
       "      <th>bathroom</th>\n",
       "      <th>city</th>\n",
       "      <th>parking_spaces</th>\n",
       "      <th>floor</th>\n",
       "      <th>pet_friendly</th>\n",
       "      <th>power_backup</th>\n",
       "      <th>washing_machine</th>\n",
       "      <th>air_conditioner</th>\n",
       "      <th>geyser/solar</th>\n",
       "      <th>security_deposit</th>\n",
       "      <th>CCTV/security</th>\n",
       "      <th>lift</th>\n",
       "      <th>neighbourhood</th>\n",
       "      <th>layout_type_n</th>\n",
       "      <th>property_type_n</th>\n",
       "      <th>locality_n</th>\n",
       "      <th>furnish_type_n</th>\n",
       "      <th>city_n</th>\n",
       "      <th>security_deposit_n</th>\n",
       "      <th>neighbourhood_n</th>\n",
       "    </tr>\n",
       "  </thead>\n",
       "  <tbody>\n",
       "    <tr>\n",
       "      <th>17079</th>\n",
       "      <td>181675</td>\n",
       "      <td>3</td>\n",
       "      <td>BHK</td>\n",
       "      <td>Apartment</td>\n",
       "      <td>Viman Nagar</td>\n",
       "      <td>12436</td>\n",
       "      <td>339</td>\n",
       "      <td>Semi-Furnished</td>\n",
       "      <td>2</td>\n",
       "      <td>Pune</td>\n",
       "      <td>0</td>\n",
       "      <td>11</td>\n",
       "      <td>1</td>\n",
       "      <td>0</td>\n",
       "      <td>1</td>\n",
       "      <td>1</td>\n",
       "      <td>0</td>\n",
       "      <td>87052</td>\n",
       "      <td>0</td>\n",
       "      <td>1</td>\n",
       "      <td>2500</td>\n",
       "      <td>0</td>\n",
       "      <td>0</td>\n",
       "      <td>3473</td>\n",
       "      <td>1</td>\n",
       "      <td>7</td>\n",
       "      <td>32132</td>\n",
       "      <td>25</td>\n",
       "    </tr>\n",
       "  </tbody>\n",
       "</table>\n",
       "</div>"
      ],
      "text/plain": [
       "       Property_ID  room layout_type property_type     locality  price  area  \\\n",
       "17079       181675     3         BHK     Apartment  Viman Nagar  12436   339   \n",
       "\n",
       "         furnish_type  bathroom  city  parking_spaces  floor  pet_friendly  \\\n",
       "17079  Semi-Furnished         2  Pune               0     11             1   \n",
       "\n",
       "       power_backup  washing_machine  air_conditioner  geyser/solar  \\\n",
       "17079             0                1                1             0   \n",
       "\n",
       "       security_deposit  CCTV/security  lift  neighbourhood  layout_type_n  \\\n",
       "17079             87052              0     1           2500              0   \n",
       "\n",
       "       property_type_n  locality_n  furnish_type_n  city_n  \\\n",
       "17079                0        3473               1       7   \n",
       "\n",
       "       security_deposit_n  neighbourhood_n  \n",
       "17079               32132               25  "
      ]
     },
     "execution_count": 124,
     "metadata": {},
     "output_type": "execute_result"
    }
   ],
   "source": [
    "train_data[train_data.index == 17079]"
   ]
  },
  {
   "cell_type": "code",
   "execution_count": 130,
   "metadata": {},
   "outputs": [],
   "source": [
    "test_data['layout_type_n'] = le1.transform(test_data['layout_type'])\n",
    "test_data['property_type_n'] = le2.transform(test_data['property_type'])\n",
    "#test_data['locality_n'] = le3.transform(test_data['locality'])\n",
    "test_data['furnish_type_n'] = le4.transform(test_data['furnish_type'])\n",
    "test_data['city_n'] = le5.transform(test_data['city'])\n",
    "test_data['neighbourhood_n'] = le6.transform(test_data['neighbourhood'])"
   ]
  },
  {
   "cell_type": "code",
   "execution_count": 1337,
   "metadata": {},
   "outputs": [],
   "source": [
    "y_pred = xgb.predict(test_data[[ 'room','furnish_type_n','city_n','bathroom', 'washing_machine','security_deposit','park&lift','power&air']])"
   ]
  },
  {
   "cell_type": "code",
   "execution_count": 1338,
   "metadata": {},
   "outputs": [
    {
     "data": {
      "text/plain": [
       "array([17200.21 ,  6637.453,  3409.69 , ..., 31545.941, 19554.396,\n",
       "       20219.014], dtype=float32)"
      ]
     },
     "execution_count": 1338,
     "metadata": {},
     "output_type": "execute_result"
    }
   ],
   "source": [
    "y_pred"
   ]
  },
  {
   "cell_type": "code",
   "execution_count": 1339,
   "metadata": {},
   "outputs": [
    {
     "data": {
      "text/html": [
       "<div>\n",
       "<style scoped>\n",
       "    .dataframe tbody tr th:only-of-type {\n",
       "        vertical-align: middle;\n",
       "    }\n",
       "\n",
       "    .dataframe tbody tr th {\n",
       "        vertical-align: top;\n",
       "    }\n",
       "\n",
       "    .dataframe thead th {\n",
       "        text-align: right;\n",
       "    }\n",
       "</style>\n",
       "<table border=\"1\" class=\"dataframe\">\n",
       "  <thead>\n",
       "    <tr style=\"text-align: right;\">\n",
       "      <th></th>\n",
       "      <th>price</th>\n",
       "    </tr>\n",
       "  </thead>\n",
       "  <tbody>\n",
       "    <tr>\n",
       "      <th>0</th>\n",
       "      <td>17200.210938</td>\n",
       "    </tr>\n",
       "    <tr>\n",
       "      <th>1</th>\n",
       "      <td>6637.453125</td>\n",
       "    </tr>\n",
       "    <tr>\n",
       "      <th>2</th>\n",
       "      <td>3409.689941</td>\n",
       "    </tr>\n",
       "    <tr>\n",
       "      <th>3</th>\n",
       "      <td>24576.101562</td>\n",
       "    </tr>\n",
       "    <tr>\n",
       "      <th>4</th>\n",
       "      <td>23405.892578</td>\n",
       "    </tr>\n",
       "    <tr>\n",
       "      <th>...</th>\n",
       "      <td>...</td>\n",
       "    </tr>\n",
       "    <tr>\n",
       "      <th>57717</th>\n",
       "      <td>19896.527344</td>\n",
       "    </tr>\n",
       "    <tr>\n",
       "      <th>57718</th>\n",
       "      <td>6728.619141</td>\n",
       "    </tr>\n",
       "    <tr>\n",
       "      <th>57719</th>\n",
       "      <td>31545.941406</td>\n",
       "    </tr>\n",
       "    <tr>\n",
       "      <th>57720</th>\n",
       "      <td>19554.396484</td>\n",
       "    </tr>\n",
       "    <tr>\n",
       "      <th>57721</th>\n",
       "      <td>20219.013672</td>\n",
       "    </tr>\n",
       "  </tbody>\n",
       "</table>\n",
       "<p>57722 rows × 1 columns</p>\n",
       "</div>"
      ],
      "text/plain": [
       "              price\n",
       "0      17200.210938\n",
       "1       6637.453125\n",
       "2       3409.689941\n",
       "3      24576.101562\n",
       "4      23405.892578\n",
       "...             ...\n",
       "57717  19896.527344\n",
       "57718   6728.619141\n",
       "57719  31545.941406\n",
       "57720  19554.396484\n",
       "57721  20219.013672\n",
       "\n",
       "[57722 rows x 1 columns]"
      ]
     },
     "execution_count": 1339,
     "metadata": {},
     "output_type": "execute_result"
    }
   ],
   "source": [
    "submission_df = pd.DataFrame(y_pred,columns=['price'])\n",
    "submission_df"
   ]
  },
  {
   "cell_type": "code",
   "execution_count": 1340,
   "metadata": {},
   "outputs": [],
   "source": [
    "submission_df.to_csv('my_submission_file_9.csv',index=False)"
   ]
  },
  {
   "cell_type": "code",
   "execution_count": 151,
   "metadata": {},
   "outputs": [
    {
     "name": "stdout",
     "output_type": "stream",
     "text": [
      "                                              0\n",
      "locality_n         geyser/solar        0.000059\n",
      "geyser/solar       locality_n          0.000059\n",
      "air_conditioner    power_backup        0.000178\n",
      "power_backup       air_conditioner     0.000178\n",
      "floor              parking_spaces      0.000194\n",
      "parking_spaces     floor               0.000194\n",
      "CCTV/security      lift                0.000398\n",
      "lift               CCTV/security       0.000398\n",
      "parking_spaces     lift                0.000521\n",
      "lift               parking_spaces      0.000521\n",
      "power_backup       locality_n          0.000557\n",
      "locality_n         power_backup        0.000557\n",
      "CCTV/security      locality_n          0.000582\n",
      "locality_n         CCTV/security       0.000582\n",
      "furnish_type_n     power_backup        0.000689\n",
      "power_backup       furnish_type_n      0.000689\n",
      "property_type_n    locality_n          0.001004\n",
      "locality_n         property_type_n     0.001004\n",
      "                   room                0.001034\n",
      "room               locality_n          0.001034\n",
      "power_backup       washing_machine     0.001324\n",
      "washing_machine    power_backup        0.001324\n",
      "Property_ID        floor               0.001354\n",
      "floor              Property_ID         0.001354\n",
      "layout_type_n      power_backup        0.001355\n",
      "power_backup       layout_type_n       0.001355\n",
      "room               CCTV/security       0.001442\n",
      "CCTV/security      room                0.001442\n",
      "locality_n         lift                0.001766\n",
      "lift               locality_n          0.001766\n",
      "locality_n         parking_spaces      0.002190\n",
      "parking_spaces     locality_n          0.002190\n",
      "CCTV/security      pet_friendly        0.002327\n",
      "pet_friendly       CCTV/security       0.002327\n",
      "bathroom           CCTV/security       0.002404\n",
      "CCTV/security      bathroom            0.002404\n",
      "locality_n         neighbourhood       0.002428\n",
      "neighbourhood      locality_n          0.002428\n",
      "locality_n         neighbourhood_n     0.002428\n",
      "neighbourhood_n    locality_n          0.002428\n",
      "locality_n         floor               0.002724\n",
      "floor              locality_n          0.002724\n",
      "power_backup       lift                0.002732\n",
      "lift               power_backup        0.002732\n",
      "parking_spaces     geyser/solar        0.002819\n",
      "geyser/solar       parking_spaces      0.002819\n",
      "locality_n         pet_friendly        0.002972\n",
      "pet_friendly       locality_n          0.002972\n",
      "area               locality_n          0.003151\n",
      "locality_n         area                0.003151\n",
      "property_type_n    CCTV/security       0.003221\n",
      "CCTV/security      property_type_n     0.003221\n",
      "city_n             floor               0.003313\n",
      "floor              city_n              0.003313\n",
      "locality_n         layout_type_n       0.003971\n",
      "layout_type_n      locality_n          0.003971\n",
      "furnish_type_n     locality_n          0.004091\n",
      "locality_n         furnish_type_n      0.004091\n",
      "                   security_deposit_n  0.004252\n",
      "security_deposit_n locality_n          0.004252\n",
      "lift               pet_friendly        0.004316\n",
      "pet_friendly       lift                0.004316\n",
      "                   Property_ID         0.004446\n",
      "Property_ID        pet_friendly        0.004446\n",
      "city_n             locality_n          0.004506\n",
      "locality_n         city_n              0.004506\n",
      "area               power_backup        0.004872\n",
      "power_backup       area                0.004872\n",
      "CCTV/security      Property_ID         0.004987\n",
      "Property_ID        CCTV/security       0.004987\n",
      "furnish_type_n     CCTV/security       0.005057\n",
      "CCTV/security      furnish_type_n      0.005057\n",
      "city_n             CCTV/security       0.005318\n",
      "CCTV/security      city_n              0.005318\n",
      "geyser/solar       neighbourhood       0.005319\n",
      "neighbourhood      geyser/solar        0.005319\n",
      "neighbourhood_n    geyser/solar        0.005319\n",
      "geyser/solar       neighbourhood_n     0.005319\n",
      "lift               security_deposit    0.005513\n",
      "security_deposit   lift                0.005513\n",
      "locality_n         bathroom            0.005739\n",
      "bathroom           locality_n          0.005739\n",
      "CCTV/security      floor               0.005847\n",
      "floor              CCTV/security       0.005847\n",
      "lift               Property_ID         0.006039\n",
      "Property_ID        lift                0.006039\n",
      "pet_friendly       city_n              0.006117\n",
      "city_n             pet_friendly        0.006117\n",
      "pet_friendly       floor               0.006209\n",
      "floor              pet_friendly        0.006209\n",
      "neighbourhood_n    area                0.006740\n",
      "area               neighbourhood_n     0.006740\n",
      "                   neighbourhood       0.006740\n",
      "neighbourhood      area                0.006740\n",
      "security_deposit   locality_n          0.006817\n",
      "locality_n         security_deposit    0.006817\n",
      "floor              power_backup        0.007086\n",
      "power_backup       floor               0.007086\n",
      "price              lift                0.007315\n",
      "lift               price               0.007315\n",
      "locality_n         air_conditioner     0.007347\n",
      "air_conditioner    locality_n          0.007347\n",
      "washing_machine    locality_n          0.007672\n",
      "locality_n         washing_machine     0.007672\n",
      "price              locality_n          0.007710\n",
      "locality_n         price               0.007710\n",
      "security_deposit_n CCTV/security       0.007753\n",
      "CCTV/security      security_deposit_n  0.007753\n",
      "lift               city_n              0.007828\n",
      "city_n             lift                0.007828\n",
      "geyser/solar       floor               0.008149\n",
      "floor              geyser/solar        0.008149\n",
      "                   security_deposit    0.008167\n",
      "security_deposit   floor               0.008167\n",
      "neighbourhood      lift                0.008254\n",
      "lift               neighbourhood       0.008254\n",
      "neighbourhood_n    lift                0.008254\n",
      "lift               neighbourhood_n     0.008254\n",
      "Property_ID        parking_spaces      0.008498\n",
      "parking_spaces     Property_ID         0.008498\n",
      "neighbourhood      pet_friendly        0.008582\n",
      "pet_friendly       neighbourhood       0.008582\n",
      "neighbourhood_n    pet_friendly        0.008582\n",
      "pet_friendly       neighbourhood_n     0.008582\n",
      "area               geyser/solar        0.008778\n",
      "geyser/solar       area                0.008778\n",
      "floor              neighbourhood_n     0.009055\n",
      "neighbourhood_n    floor               0.009055\n",
      "floor              neighbourhood       0.009055\n",
      "neighbourhood      floor               0.009055\n",
      "air_conditioner    CCTV/security       0.009080\n",
      "CCTV/security      air_conditioner     0.009080\n",
      "power_backup       property_type_n     0.009205\n",
      "property_type_n    power_backup        0.009205\n",
      "floor              price               0.009306\n",
      "price              floor               0.009306\n",
      "layout_type_n      neighbourhood       0.009416\n",
      "neighbourhood      layout_type_n       0.009416\n",
      "neighbourhood_n    layout_type_n       0.009416\n",
      "layout_type_n      neighbourhood_n     0.009416\n",
      "washing_machine    CCTV/security       0.009480\n",
      "CCTV/security      washing_machine     0.009480\n",
      "area               floor               0.010561\n",
      "floor              area                0.010561\n",
      "layout_type_n      geyser/solar        0.010781\n",
      "geyser/solar       layout_type_n       0.010781\n",
      "lift               area                0.011440\n",
      "area               lift                0.011440\n",
      "power_backup       CCTV/security       0.011448\n",
      "CCTV/security      power_backup        0.011448\n",
      "                   area                0.011936\n",
      "area               CCTV/security       0.011936\n",
      "pet_friendly       property_type_n     0.012191\n",
      "property_type_n    pet_friendly        0.012191\n",
      "bathroom           power_backup        0.012483\n",
      "power_backup       bathroom            0.012483\n",
      "security_deposit   CCTV/security       0.012563\n",
      "CCTV/security      security_deposit    0.012563\n",
      "city_n             parking_spaces      0.012617\n",
      "parking_spaces     city_n              0.012617\n",
      "pet_friendly       geyser/solar        0.013024\n",
      "geyser/solar       pet_friendly        0.013024\n",
      "locality_n         Property_ID         0.013042\n",
      "Property_ID        locality_n          0.013042\n",
      "security_deposit   property_type_n     0.013075\n",
      "property_type_n    security_deposit    0.013075\n",
      "layout_type_n      CCTV/security       0.013770\n",
      "CCTV/security      layout_type_n       0.013770\n",
      "washing_machine    geyser/solar        0.013782\n",
      "geyser/solar       washing_machine     0.013782\n",
      "CCTV/security      parking_spaces      0.014606\n",
      "parking_spaces     CCTV/security       0.014606\n",
      "lift               geyser/solar        0.014644\n",
      "geyser/solar       lift                0.014644\n",
      "CCTV/security      price               0.014748\n",
      "price              CCTV/security       0.014748\n",
      "pet_friendly       security_deposit    0.014800\n",
      "security_deposit   pet_friendly        0.014800\n",
      "price              property_type_n     0.015685\n",
      "property_type_n    price               0.015685\n",
      "furnish_type_n     geyser/solar        0.015799\n",
      "geyser/solar       furnish_type_n      0.015799\n",
      "pet_friendly       layout_type_n       0.015956\n",
      "layout_type_n      pet_friendly        0.015956\n",
      "neighbourhood      security_deposit    0.016120\n",
      "security_deposit   neighbourhood       0.016120\n",
      "                   neighbourhood_n     0.016120\n",
      "neighbourhood_n    security_deposit    0.016120\n",
      "security_deposit   geyser/solar        0.016272\n",
      "geyser/solar       security_deposit    0.016272\n",
      "parking_spaces     neighbourhood_n     0.016455\n",
      "neighbourhood_n    parking_spaces      0.016455\n",
      "parking_spaces     neighbourhood       0.016455\n",
      "neighbourhood      parking_spaces      0.016455\n",
      "layout_type_n      floor               0.016556\n",
      "floor              layout_type_n       0.016556\n",
      "security_deposit   area                0.017128\n",
      "area               security_deposit    0.017128\n",
      "parking_spaces     area                0.017152\n",
      "area               parking_spaces      0.017152\n",
      "security_deposit   layout_type_n       0.017978\n",
      "layout_type_n      security_deposit    0.017978\n",
      "property_type_n    floor               0.018046\n",
      "floor              property_type_n     0.018046\n",
      "price              neighbourhood_n     0.018155\n",
      "neighbourhood_n    price               0.018155\n",
      "price              neighbourhood       0.018155\n",
      "neighbourhood      price               0.018155\n",
      "geyser/solar       price               0.018356\n",
      "price              geyser/solar        0.018356\n",
      "property_type_n    neighbourhood       0.018537\n",
      "neighbourhood      property_type_n     0.018537\n",
      "property_type_n    neighbourhood_n     0.018537\n",
      "neighbourhood_n    property_type_n     0.018537\n",
      "layout_type_n      lift                0.018570\n",
      "lift               layout_type_n       0.018570\n",
      "room               power_backup        0.018682\n",
      "power_backup       room                0.018682\n",
      "price              pet_friendly        0.018975\n",
      "pet_friendly       price               0.018975\n",
      "parking_spaces     power_backup        0.019100\n",
      "power_backup       parking_spaces      0.019100\n",
      "                   security_deposit    0.019252\n",
      "security_deposit   power_backup        0.019252\n",
      "parking_spaces     property_type_n     0.019580\n",
      "property_type_n    parking_spaces      0.019580\n",
      "air_conditioner    geyser/solar        0.019800\n",
      "geyser/solar       air_conditioner     0.019800\n",
      "price              layout_type_n       0.020112\n",
      "layout_type_n      price               0.020112\n",
      "geyser/solar       bathroom            0.020406\n",
      "bathroom           geyser/solar        0.020406\n",
      "price              area                0.020436\n",
      "area               price               0.020436\n",
      "price              power_backup        0.020657\n",
      "power_backup       price               0.020657\n",
      "neighbourhood_n    power_backup        0.020932\n",
      "power_backup       neighbourhood_n     0.020932\n",
      "neighbourhood      power_backup        0.020932\n",
      "power_backup       neighbourhood       0.020932\n",
      "pet_friendly       furnish_type_n      0.021122\n",
      "furnish_type_n     pet_friendly        0.021122\n",
      "security_deposit_n power_backup        0.021192\n",
      "power_backup       security_deposit_n  0.021192\n",
      "city_n             power_backup        0.021542\n",
      "power_backup       city_n              0.021542\n",
      "CCTV/security      geyser/solar        0.021549\n",
      "geyser/solar       CCTV/security       0.021549\n",
      "floor              furnish_type_n      0.021758\n",
      "furnish_type_n     floor               0.021758\n",
      "property_type_n    lift                0.022197\n",
      "lift               property_type_n     0.022197\n",
      "parking_spaces     security_deposit    0.022209\n",
      "security_deposit   parking_spaces      0.022209\n",
      "geyser/solar       property_type_n     0.022533\n",
      "property_type_n    geyser/solar        0.022533\n",
      "bathroom           pet_friendly        0.023911\n",
      "pet_friendly       bathroom            0.023911\n",
      "lift               furnish_type_n      0.024356\n",
      "furnish_type_n     lift                0.024356\n",
      "security_deposit_n floor               0.024685\n",
      "floor              security_deposit_n  0.024685\n",
      "layout_type_n      area                0.024759\n",
      "area               layout_type_n       0.024759\n",
      "city_n             geyser/solar        0.024899\n",
      "geyser/solar       city_n              0.024899\n",
      "pet_friendly       area                0.024945\n",
      "area               pet_friendly        0.024945\n",
      "Property_ID        power_backup        0.024991\n",
      "power_backup       Property_ID         0.024991\n",
      "CCTV/security      neighbourhood_n     0.025502\n",
      "neighbourhood_n    CCTV/security       0.025502\n",
      "CCTV/security      neighbourhood       0.025502\n",
      "neighbourhood      CCTV/security       0.025502\n",
      "parking_spaces     layout_type_n       0.025879\n",
      "layout_type_n      parking_spaces      0.025879\n",
      "Property_ID        geyser/solar        0.026124\n",
      "geyser/solar       Property_ID         0.026124\n",
      "property_type_n    area                0.026488\n",
      "area               property_type_n     0.026488\n",
      "price              parking_spaces      0.026572\n",
      "parking_spaces     price               0.026572\n",
      "pet_friendly       power_backup        0.026633\n",
      "power_backup       pet_friendly        0.026633\n",
      "security_deposit_n lift                0.026662\n",
      "lift               security_deposit_n  0.026662\n",
      "pet_friendly       washing_machine     0.028084\n",
      "washing_machine    pet_friendly        0.028084\n",
      "parking_spaces     washing_machine     0.030510\n",
      "washing_machine    parking_spaces      0.030510\n",
      "security_deposit   washing_machine     0.031058\n",
      "washing_machine    security_deposit    0.031058\n",
      "pet_friendly       air_conditioner     0.031696\n",
      "air_conditioner    pet_friendly        0.031696\n",
      "furnish_type_n     security_deposit    0.032139\n",
      "security_deposit   furnish_type_n      0.032139\n",
      "price              washing_machine     0.032285\n",
      "washing_machine    price               0.032285\n",
      "security_deposit_n geyser/solar        0.032401\n",
      "geyser/solar       security_deposit_n  0.032401\n",
      "room               geyser/solar        0.033396\n",
      "geyser/solar       room                0.033396\n",
      "washing_machine    floor               0.033981\n",
      "floor              washing_machine     0.033981\n",
      "parking_spaces     furnish_type_n      0.034599\n",
      "furnish_type_n     parking_spaces      0.034599\n",
      "security_deposit_n pet_friendly        0.034856\n",
      "pet_friendly       security_deposit_n  0.034856\n",
      "neighbourhood      washing_machine     0.035114\n",
      "washing_machine    neighbourhood       0.035114\n",
      "                   neighbourhood_n     0.035114\n",
      "neighbourhood_n    washing_machine     0.035114\n",
      "air_conditioner    floor               0.035383\n",
      "floor              air_conditioner     0.035383\n",
      "furnish_type_n     price               0.036303\n",
      "price              furnish_type_n      0.036303\n",
      "neighbourhood_n    bathroom            0.036336\n",
      "bathroom           neighbourhood_n     0.036336\n",
      "                   neighbourhood       0.036336\n",
      "neighbourhood      bathroom            0.036336\n",
      "bathroom           security_deposit    0.036777\n",
      "security_deposit   bathroom            0.036777\n",
      "geyser/solar       power_backup        0.036957\n",
      "power_backup       geyser/solar        0.036957\n",
      "neighbourhood_n    furnish_type_n      0.038717\n",
      "furnish_type_n     neighbourhood_n     0.038717\n",
      "neighbourhood      furnish_type_n      0.038717\n",
      "furnish_type_n     neighbourhood       0.038717\n",
      "floor              room                0.039080\n",
      "room               floor               0.039080\n",
      "neighbourhood      security_deposit_n  0.039409\n",
      "security_deposit_n neighbourhood       0.039409\n",
      "                   neighbourhood_n     0.039409\n",
      "neighbourhood_n    security_deposit_n  0.039409\n",
      "city_n             security_deposit    0.039420\n",
      "security_deposit   city_n              0.039420\n",
      "bathroom           floor               0.039579\n",
      "floor              bathroom            0.039579\n",
      "layout_type_n      property_type_n     0.040098\n",
      "property_type_n    layout_type_n       0.040098\n",
      "security_deposit   Property_ID         0.040192\n",
      "Property_ID        security_deposit    0.040192\n",
      "city_n             area                0.041177\n",
      "area               city_n              0.041177\n",
      "lift               washing_machine     0.041382\n",
      "washing_machine    lift                0.041382\n",
      "air_conditioner    lift                0.041417\n",
      "lift               air_conditioner     0.041417\n",
      "                   bathroom            0.041633\n",
      "bathroom           lift                0.041633\n",
      "furnish_type_n     area                0.041705\n",
      "area               furnish_type_n      0.041705\n",
      "Property_ID        area                0.041801\n",
      "area               Property_ID         0.041801\n",
      "neighbourhood_n    Property_ID         0.041836\n",
      "Property_ID        neighbourhood_n     0.041836\n",
      "neighbourhood      Property_ID         0.041836\n",
      "Property_ID        neighbourhood       0.041836\n",
      "bathroom           price               0.041852\n",
      "price              bathroom            0.041852\n",
      "air_conditioner    security_deposit    0.041912\n",
      "security_deposit   air_conditioner     0.041912\n",
      "room               pet_friendly        0.042077\n",
      "pet_friendly       room                0.042077\n",
      "city_n             neighbourhood_n     0.042348\n",
      "neighbourhood_n    city_n              0.042348\n",
      "neighbourhood      city_n              0.042348\n",
      "city_n             neighbourhood       0.042348\n",
      "                   price               0.042807\n",
      "price              city_n              0.042807\n",
      "lift               room                0.042945\n",
      "room               lift                0.042945\n",
      "parking_spaces     air_conditioner     0.043538\n",
      "air_conditioner    parking_spaces      0.043538\n",
      "bathroom           parking_spaces      0.043553\n",
      "parking_spaces     bathroom            0.043553\n",
      "Property_ID        price               0.043837\n",
      "price              Property_ID         0.043837\n",
      "area               washing_machine     0.044571\n",
      "washing_machine    area                0.044571\n",
      "pet_friendly       parking_spaces      0.045560\n",
      "parking_spaces     pet_friendly        0.045560\n",
      "price              air_conditioner     0.045829\n",
      "air_conditioner    price               0.045829\n",
      "neighbourhood      air_conditioner     0.049246\n",
      "air_conditioner    neighbourhood       0.049246\n",
      "                   neighbourhood_n     0.049246\n",
      "neighbourhood_n    air_conditioner     0.049246\n",
      "security_deposit   room                0.049441\n",
      "room               security_deposit    0.049441\n",
      "security_deposit_n parking_spaces      0.050086\n",
      "parking_spaces     security_deposit_n  0.050086\n",
      "area               bathroom            0.051474\n",
      "bathroom           area                0.051474\n",
      "room               parking_spaces      0.051724\n",
      "parking_spaces     room                0.051724\n",
      "area               security_deposit_n  0.052297\n",
      "security_deposit_n area                0.052297\n",
      "city_n             layout_type_n       0.052394\n",
      "layout_type_n      city_n              0.052394\n",
      "                   Property_ID         0.052758\n",
      "Property_ID        layout_type_n       0.052758\n",
      "price              room                0.054031\n",
      "room               price               0.054031\n",
      "Property_ID        property_type_n     0.055151\n",
      "property_type_n    Property_ID         0.055151\n",
      "city_n             property_type_n     0.055281\n",
      "property_type_n    city_n              0.055281\n",
      "area               air_conditioner     0.056697\n",
      "air_conditioner    area                0.056697\n",
      "security_deposit_n property_type_n     0.059540\n",
      "property_type_n    security_deposit_n  0.059540\n",
      "room               neighbourhood_n     0.059547\n",
      "neighbourhood_n    room                0.059547\n",
      "neighbourhood      room                0.059547\n",
      "room               neighbourhood       0.059547\n",
      "layout_type_n      bathroom            0.060102\n",
      "bathroom           layout_type_n       0.060102\n",
      "furnish_type_n     layout_type_n       0.061859\n",
      "layout_type_n      furnish_type_n      0.061859\n",
      "area               room                0.063588\n",
      "room               area                0.063588\n",
      "furnish_type_n     property_type_n     0.064846\n",
      "property_type_n    furnish_type_n      0.064846\n",
      "layout_type_n      security_deposit_n  0.067974\n",
      "security_deposit_n layout_type_n       0.067974\n",
      "bathroom           property_type_n     0.069351\n",
      "property_type_n    bathroom            0.069351\n",
      "furnish_type_n     Property_ID         0.071463\n",
      "Property_ID        furnish_type_n      0.071463\n",
      "                   bathroom            0.072558\n",
      "bathroom           Property_ID         0.072558\n",
      "city_n             bathroom            0.072938\n",
      "bathroom           city_n              0.072938\n",
      "city_n             furnish_type_n      0.073147\n",
      "furnish_type_n     city_n              0.073147\n",
      "washing_machine    property_type_n     0.075630\n",
      "property_type_n    washing_machine     0.075630\n",
      "layout_type_n      washing_machine     0.076612\n",
      "washing_machine    layout_type_n       0.076612\n",
      "room               layout_type_n       0.080321\n",
      "layout_type_n      room                0.080321\n",
      "property_type_n    room                0.087981\n",
      "room               property_type_n     0.087981\n",
      "layout_type_n      air_conditioner     0.089777\n",
      "air_conditioner    layout_type_n       0.089777\n",
      "property_type_n    air_conditioner     0.091580\n",
      "air_conditioner    property_type_n     0.091580\n",
      "furnish_type_n     security_deposit_n  0.100730\n",
      "security_deposit_n furnish_type_n      0.100730\n",
      "bathroom           security_deposit_n  0.109795\n",
      "security_deposit_n bathroom            0.109795\n",
      "                   city_n              0.111535\n",
      "city_n             security_deposit_n  0.111535\n",
      "security_deposit_n Property_ID         0.111935\n",
      "Property_ID        security_deposit_n  0.111935\n",
      "furnish_type_n     bathroom            0.112157\n",
      "bathroom           furnish_type_n      0.112157\n",
      "furnish_type_n     washing_machine     0.114624\n",
      "washing_machine    furnish_type_n      0.114624\n",
      "                   bathroom            0.119090\n",
      "bathroom           washing_machine     0.119090\n",
      "washing_machine    security_deposit_n  0.122212\n",
      "security_deposit_n washing_machine     0.122212\n",
      "air_conditioner    Property_ID         0.123135\n",
      "Property_ID        air_conditioner     0.123135\n",
      "                   washing_machine     0.124402\n",
      "washing_machine    Property_ID         0.124402\n",
      "city_n             air_conditioner     0.125691\n",
      "air_conditioner    city_n              0.125691\n",
      "washing_machine    city_n              0.126693\n",
      "city_n             washing_machine     0.126693\n",
      "room               Property_ID         0.129184\n",
      "Property_ID        room                0.129184\n",
      "room               city_n              0.131020\n",
      "city_n             room                0.131020\n",
      "room               furnish_type_n      0.140689\n",
      "furnish_type_n     room                0.140689\n",
      "air_conditioner    security_deposit_n  0.144817\n",
      "security_deposit_n air_conditioner     0.144817\n",
      "air_conditioner    bathroom            0.152056\n",
      "bathroom           air_conditioner     0.152056\n",
      "security_deposit_n room                0.158971\n",
      "room               security_deposit_n  0.158971\n",
      "                   bathroom            0.169328\n",
      "bathroom           room                0.169328\n",
      "washing_machine    room                0.178346\n",
      "room               washing_machine     0.178346\n",
      "air_conditioner    room                0.206405\n",
      "room               air_conditioner     0.206405\n",
      "security_deposit_n price               0.550229\n",
      "price              security_deposit_n  0.550229\n",
      "security_deposit   security_deposit_n  0.576422\n",
      "security_deposit_n security_deposit    0.576422\n",
      "air_conditioner    washing_machine     0.630561\n",
      "washing_machine    air_conditioner     0.630561\n",
      "air_conditioner    furnish_type_n      0.843302\n",
      "furnish_type_n     air_conditioner     0.843302\n",
      "lift               floor               0.855174\n",
      "floor              lift                0.855174\n",
      "security_deposit   price               0.897503\n",
      "price              security_deposit    0.897503\n",
      "city_n             Property_ID         0.961002\n",
      "Property_ID        city_n              0.961002\n",
      "neighbourhood      neighbourhood_n     1.000000\n",
      "neighbourhood_n    neighbourhood       1.000000\n",
      "Property_ID        Property_ID         1.000000\n",
      "geyser/solar       geyser/solar        1.000000\n",
      "city_n             city_n              1.000000\n",
      "room               room                1.000000\n",
      "price              price               1.000000\n",
      "area               area                1.000000\n",
      "bathroom           bathroom            1.000000\n",
      "parking_spaces     parking_spaces      1.000000\n",
      "floor              floor               1.000000\n",
      "pet_friendly       pet_friendly        1.000000\n",
      "power_backup       power_backup        1.000000\n",
      "security_deposit_n security_deposit_n  1.000000\n",
      "washing_machine    washing_machine     1.000000\n",
      "security_deposit   security_deposit    1.000000\n",
      "CCTV/security      CCTV/security       1.000000\n",
      "lift               lift                1.000000\n",
      "neighbourhood      neighbourhood       1.000000\n",
      "layout_type_n      layout_type_n       1.000000\n",
      "property_type_n    property_type_n     1.000000\n",
      "locality_n         locality_n          1.000000\n",
      "furnish_type_n     furnish_type_n      1.000000\n",
      "air_conditioner    air_conditioner     1.000000\n",
      "neighbourhood_n    neighbourhood_n     1.000000\n"
     ]
    },
    {
     "data": {
      "image/png": "[encoded data removed]",
      "text/plain": [
       "<Figure size 432x288 with 2 Axes>"
      ]
     },
     "metadata": {
      "needs_background": "light"
     },
     "output_type": "display_data"
    }
   ],
   "source": [
    "import seaborn as sns\n",
    "cols = train_data.columns\n",
    "corr = train_data[cols].corr().abs()\n",
    "dataplot = sns.heatmap(corr, cmap=\"YlGnBu\", annot=True , annot_kws={'size': 10})\n",
    "s = corr.unstack()\n",
    "so = s.sort_values(kind=\"quicksort\")\n",
    "print(pd.DataFrame(so))"
   ]
  },
  {
   "cell_type": "code",
   "execution_count": 416,
   "metadata": {},
   "outputs": [],
   "source": [
    "from sklearn.preprocessing import StandardScaler"
   ]
  },
  {
   "cell_type": "code",
   "execution_count": 417,
   "metadata": {},
   "outputs": [],
   "source": [
    "obj = StandardScaler()"
   ]
  },
  {
   "cell_type": "code",
   "execution_count": 418,
   "metadata": {},
   "outputs": [],
   "source": [
    "st_data = obj.fit_transform(train_data[[ 'room','furnish_type_n', 'bathroom', 'city_n', 'parking_spaces', 'power_backup', 'washing_machine','air_conditioner','security_deposit','lift']])"
   ]
  },
  {
   "cell_type": "code",
   "execution_count": 420,
   "metadata": {},
   "outputs": [],
   "source": [
    "st_data = pd.DataFrame(st_data,columns=[ 'room','furnish_type_n', 'bathroom', 'city_n', 'parking_spaces', 'power_backup', 'washing_machine','air_conditioner','security_deposit','lift'])"
   ]
  },
  {
   "cell_type": "code",
   "execution_count": 421,
   "metadata": {},
   "outputs": [
    {
     "data": {
      "text/html": [
       "<div>\n",
       "<style scoped>\n",
       "    .dataframe tbody tr th:only-of-type {\n",
       "        vertical-align: middle;\n",
       "    }\n",
       "\n",
       "    .dataframe tbody tr th {\n",
       "        vertical-align: top;\n",
       "    }\n",
       "\n",
       "    .dataframe thead th {\n",
       "        text-align: right;\n",
       "    }\n",
       "</style>\n",
       "<table border=\"1\" class=\"dataframe\">\n",
       "  <thead>\n",
       "    <tr style=\"text-align: right;\">\n",
       "      <th></th>\n",
       "      <th>room</th>\n",
       "      <th>furnish_type_n</th>\n",
       "      <th>bathroom</th>\n",
       "      <th>city_n</th>\n",
       "      <th>parking_spaces</th>\n",
       "      <th>power_backup</th>\n",
       "      <th>washing_machine</th>\n",
       "      <th>air_conditioner</th>\n",
       "      <th>security_deposit</th>\n",
       "      <th>lift</th>\n",
       "    </tr>\n",
       "  </thead>\n",
       "  <tbody>\n",
       "    <tr>\n",
       "      <th>0</th>\n",
       "      <td>1.035227</td>\n",
       "      <td>-1.508093</td>\n",
       "      <td>-0.046695</td>\n",
       "      <td>-0.896981</td>\n",
       "      <td>0.933434</td>\n",
       "      <td>-0.713029</td>\n",
       "      <td>-0.946549</td>\n",
       "      <td>0.666168</td>\n",
       "      <td>0.195905</td>\n",
       "      <td>-1.214222</td>\n",
       "    </tr>\n",
       "    <tr>\n",
       "      <th>1</th>\n",
       "      <td>-1.098551</td>\n",
       "      <td>1.265899</td>\n",
       "      <td>-0.046695</td>\n",
       "      <td>-0.040308</td>\n",
       "      <td>-1.071313</td>\n",
       "      <td>1.402467</td>\n",
       "      <td>-0.946549</td>\n",
       "      <td>-1.501123</td>\n",
       "      <td>-0.477913</td>\n",
       "      <td>0.823573</td>\n",
       "    </tr>\n",
       "    <tr>\n",
       "      <th>2</th>\n",
       "      <td>1.035227</td>\n",
       "      <td>-0.121097</td>\n",
       "      <td>-0.046695</td>\n",
       "      <td>0.388029</td>\n",
       "      <td>-1.071313</td>\n",
       "      <td>1.402467</td>\n",
       "      <td>1.056469</td>\n",
       "      <td>0.666168</td>\n",
       "      <td>-0.242011</td>\n",
       "      <td>0.823573</td>\n",
       "    </tr>\n",
       "    <tr>\n",
       "      <th>3</th>\n",
       "      <td>-1.098551</td>\n",
       "      <td>1.265899</td>\n",
       "      <td>-1.200015</td>\n",
       "      <td>0.816366</td>\n",
       "      <td>-1.071313</td>\n",
       "      <td>-0.713029</td>\n",
       "      <td>-0.946549</td>\n",
       "      <td>-1.501123</td>\n",
       "      <td>-0.433851</td>\n",
       "      <td>0.823573</td>\n",
       "    </tr>\n",
       "    <tr>\n",
       "      <th>4</th>\n",
       "      <td>-1.098551</td>\n",
       "      <td>-0.121097</td>\n",
       "      <td>1.106625</td>\n",
       "      <td>1.244703</td>\n",
       "      <td>-1.071313</td>\n",
       "      <td>-0.713029</td>\n",
       "      <td>1.056469</td>\n",
       "      <td>0.666168</td>\n",
       "      <td>-0.352481</td>\n",
       "      <td>0.823573</td>\n",
       "    </tr>\n",
       "    <tr>\n",
       "      <th>...</th>\n",
       "      <td>...</td>\n",
       "      <td>...</td>\n",
       "      <td>...</td>\n",
       "      <td>...</td>\n",
       "      <td>...</td>\n",
       "      <td>...</td>\n",
       "      <td>...</td>\n",
       "      <td>...</td>\n",
       "      <td>...</td>\n",
       "      <td>...</td>\n",
       "    </tr>\n",
       "    <tr>\n",
       "      <th>134678</th>\n",
       "      <td>1.035227</td>\n",
       "      <td>1.265899</td>\n",
       "      <td>-1.200015</td>\n",
       "      <td>0.816366</td>\n",
       "      <td>0.933434</td>\n",
       "      <td>-0.713029</td>\n",
       "      <td>-0.946549</td>\n",
       "      <td>-1.501123</td>\n",
       "      <td>3.718998</td>\n",
       "      <td>0.823573</td>\n",
       "    </tr>\n",
       "    <tr>\n",
       "      <th>134679</th>\n",
       "      <td>-1.098551</td>\n",
       "      <td>1.265899</td>\n",
       "      <td>-0.046695</td>\n",
       "      <td>1.244703</td>\n",
       "      <td>-1.071313</td>\n",
       "      <td>1.402467</td>\n",
       "      <td>-0.946549</td>\n",
       "      <td>-1.501123</td>\n",
       "      <td>-0.374899</td>\n",
       "      <td>-1.214222</td>\n",
       "    </tr>\n",
       "    <tr>\n",
       "      <th>134680</th>\n",
       "      <td>1.035227</td>\n",
       "      <td>-0.121097</td>\n",
       "      <td>1.106625</td>\n",
       "      <td>0.816366</td>\n",
       "      <td>0.933434</td>\n",
       "      <td>1.402467</td>\n",
       "      <td>1.056469</td>\n",
       "      <td>0.666168</td>\n",
       "      <td>0.496641</td>\n",
       "      <td>-1.214222</td>\n",
       "    </tr>\n",
       "    <tr>\n",
       "      <th>134681</th>\n",
       "      <td>-1.098551</td>\n",
       "      <td>1.265899</td>\n",
       "      <td>-0.046695</td>\n",
       "      <td>1.244703</td>\n",
       "      <td>-1.071313</td>\n",
       "      <td>1.402467</td>\n",
       "      <td>-0.946549</td>\n",
       "      <td>-1.501123</td>\n",
       "      <td>-0.334531</td>\n",
       "      <td>0.823573</td>\n",
       "    </tr>\n",
       "    <tr>\n",
       "      <th>134682</th>\n",
       "      <td>-1.098551</td>\n",
       "      <td>-0.121097</td>\n",
       "      <td>-0.046695</td>\n",
       "      <td>-0.896981</td>\n",
       "      <td>-1.071313</td>\n",
       "      <td>-0.713029</td>\n",
       "      <td>1.056469</td>\n",
       "      <td>0.666168</td>\n",
       "      <td>-0.347738</td>\n",
       "      <td>0.823573</td>\n",
       "    </tr>\n",
       "  </tbody>\n",
       "</table>\n",
       "<p>134683 rows × 10 columns</p>\n",
       "</div>"
      ],
      "text/plain": [
       "            room  furnish_type_n  bathroom    city_n  parking_spaces  \\\n",
       "0       1.035227       -1.508093 -0.046695 -0.896981        0.933434   \n",
       "1      -1.098551        1.265899 -0.046695 -0.040308       -1.071313   \n",
       "2       1.035227       -0.121097 -0.046695  0.388029       -1.071313   \n",
       "3      -1.098551        1.265899 -1.200015  0.816366       -1.071313   \n",
       "4      -1.098551       -0.121097  1.106625  1.244703       -1.071313   \n",
       "...          ...             ...       ...       ...             ...   \n",
       "134678  1.035227        1.265899 -1.200015  0.816366        0.933434   \n",
       "134679 -1.098551        1.265899 -0.046695  1.244703       -1.071313   \n",
       "134680  1.035227       -0.121097  1.106625  0.816366        0.933434   \n",
       "134681 -1.098551        1.265899 -0.046695  1.244703       -1.071313   \n",
       "134682 -1.098551       -0.121097 -0.046695 -0.896981       -1.071313   \n",
       "\n",
       "        power_backup  washing_machine  air_conditioner  security_deposit  \\\n",
       "0          -0.713029        -0.946549         0.666168          0.195905   \n",
       "1           1.402467        -0.946549        -1.501123         -0.477913   \n",
       "2           1.402467         1.056469         0.666168         -0.242011   \n",
       "3          -0.713029        -0.946549        -1.501123         -0.433851   \n",
       "4          -0.713029         1.056469         0.666168         -0.352481   \n",
       "...              ...              ...              ...               ...   \n",
       "134678     -0.713029        -0.946549        -1.501123          3.718998   \n",
       "134679      1.402467        -0.946549        -1.501123         -0.374899   \n",
       "134680      1.402467         1.056469         0.666168          0.496641   \n",
       "134681      1.402467        -0.946549        -1.501123         -0.334531   \n",
       "134682     -0.713029         1.056469         0.666168         -0.347738   \n",
       "\n",
       "            lift  \n",
       "0      -1.214222  \n",
       "1       0.823573  \n",
       "2       0.823573  \n",
       "3       0.823573  \n",
       "4       0.823573  \n",
       "...          ...  \n",
       "134678  0.823573  \n",
       "134679 -1.214222  \n",
       "134680 -1.214222  \n",
       "134681  0.823573  \n",
       "134682  0.823573  \n",
       "\n",
       "[134683 rows x 10 columns]"
      ]
     },
     "execution_count": 421,
     "metadata": {},
     "output_type": "execute_result"
    }
   ],
   "source": [
    "st_data"
   ]
  },
  {
   "cell_type": "code",
   "execution_count": 1306,
   "metadata": {},
   "outputs": [],
   "source": [
    "from sklearn.linear_model import Lasso"
   ]
  },
  {
   "cell_type": "code",
   "execution_count": 1316,
   "metadata": {},
   "outputs": [],
   "source": [
    "ls = Lasso(alpha=1)"
   ]
  },
  {
   "cell_type": "code",
   "execution_count": 1317,
   "metadata": {},
   "outputs": [
    {
     "data": {
      "text/plain": [
       "Lasso(alpha=1)"
      ]
     },
     "execution_count": 1317,
     "metadata": {},
     "output_type": "execute_result"
    }
   ],
   "source": [
    "ls.fit(x_train,y_train)"
   ]
  },
  {
   "cell_type": "code",
   "execution_count": 1318,
   "metadata": {},
   "outputs": [],
   "source": [
    "y_pred = ls.predict(x_test)"
   ]
  },
  {
   "cell_type": "code",
   "execution_count": 1319,
   "metadata": {},
   "outputs": [
    {
     "name": "stdout",
     "output_type": "stream",
     "text": [
      "166.5687357643348 27745.143734128786\n"
     ]
    }
   ],
   "source": [
    "mse = mean_squared_error(y_test,y_pred,squared=False)\n",
    "rmse = np.sqrt(mse)\n",
    "print(rmse,mse)\n"
   ]
  },
  {
   "cell_type": "code",
   "execution_count": 625,
   "metadata": {},
   "outputs": [],
   "source": [
    "from sklearn.linear_model import Ridge"
   ]
  },
  {
   "cell_type": "code",
   "execution_count": 626,
   "metadata": {},
   "outputs": [],
   "source": [
    "rd = Ridge()"
   ]
  },
  {
   "cell_type": "code",
   "execution_count": 627,
   "metadata": {},
   "outputs": [
    {
     "name": "stderr",
     "output_type": "stream",
     "text": [
      "C:\\Users\\Sai Ganesh Yadav\\AppData\\Local\\Programs\\Python\\Python39\\lib\\site-packages\\sklearn\\linear_model\\_ridge.py:157: LinAlgWarning: Ill-conditioned matrix (rcond=5.24167e-17): result may not be accurate.\n",
      "  return linalg.solve(A, Xy, sym_pos=True, overwrite_a=True).T\n"
     ]
    },
    {
     "data": {
      "text/plain": [
       "Ridge()"
      ]
     },
     "execution_count": 627,
     "metadata": {},
     "output_type": "execute_result"
    }
   ],
   "source": [
    "rd.fit(x_train,y_train)"
   ]
  },
  {
   "cell_type": "code",
   "execution_count": 628,
   "metadata": {},
   "outputs": [],
   "source": [
    "y_pred = rd.predict(x_test)"
   ]
  },
  {
   "cell_type": "code",
   "execution_count": 629,
   "metadata": {},
   "outputs": [
    {
     "name": "stdout",
     "output_type": "stream",
     "text": [
      "166.5656563191216 27744.11786501973\n"
     ]
    }
   ],
   "source": [
    "mse = mean_squared_error(y_test,y_pred,squared=False)\n",
    "rmse = np.sqrt(mse)\n",
    "print(rmse,mse)\n"
   ]
  },
  {
   "cell_type": "code",
   "execution_count": 630,
   "metadata": {},
   "outputs": [],
   "source": [
    "from sklearn.linear_model import LinearRegression"
   ]
  },
  {
   "cell_type": "code",
   "execution_count": 631,
   "metadata": {},
   "outputs": [],
   "source": [
    "lr = LinearRegression()"
   ]
  },
  {
   "cell_type": "code",
   "execution_count": 632,
   "metadata": {},
   "outputs": [
    {
     "data": {
      "text/plain": [
       "LinearRegression()"
      ]
     },
     "execution_count": 632,
     "metadata": {},
     "output_type": "execute_result"
    }
   ],
   "source": [
    "lr.fit(x_train,y_train)"
   ]
  },
  {
   "cell_type": "code",
   "execution_count": 633,
   "metadata": {},
   "outputs": [],
   "source": [
    "y_pred = lr.predict(x_test)"
   ]
  },
  {
   "cell_type": "code",
   "execution_count": 634,
   "metadata": {},
   "outputs": [
    {
     "name": "stdout",
     "output_type": "stream",
     "text": [
      "166.56565649904064 27744.1179249564\n"
     ]
    }
   ],
   "source": [
    "mse = mean_squared_error(y_test,y_pred,squared=False)\n",
    "rmse = np.sqrt(mse)\n",
    "print(rmse,mse)\n"
   ]
  },
  {
   "cell_type": "code",
   "execution_count": 574,
   "metadata": {},
   "outputs": [
    {
     "data": {
      "text/plain": [
       "<matplotlib.collections.PathCollection at 0x1f58c10fa90>"
      ]
     },
     "execution_count": 574,
     "metadata": {},
     "output_type": "execute_result"
    },
    {
     "data": {
      "image/png": "[encoded data removed]",
      "text/plain": [
       "<Figure size 432x288 with 1 Axes>"
      ]
     },
     "metadata": {
      "needs_background": "light"
     },
     "output_type": "display_data"
    }
   ],
   "source": [
    "plt.scatter(train_data['room'],train_data['price'])"
   ]
  },
  {
   "cell_type": "code",
   "execution_count": 575,
   "metadata": {},
   "outputs": [
    {
     "data": {
      "text/plain": [
       "<matplotlib.collections.PathCollection at 0x1f58d84a490>"
      ]
     },
     "execution_count": 575,
     "metadata": {},
     "output_type": "execute_result"
    },
    {
     "data": {
      "image/png": "[encoded data removed]",
      "text/plain": [
       "<Figure size 432x288 with 1 Axes>"
      ]
     },
     "metadata": {
      "needs_background": "light"
     },
     "output_type": "display_data"
    }
   ],
   "source": [
    "plt.scatter(train_data['layout_type_n'],train_data['price'])"
   ]
  },
  {
   "cell_type": "code",
   "execution_count": 576,
   "metadata": {},
   "outputs": [
    {
     "data": {
      "text/plain": [
       "<matplotlib.collections.PathCollection at 0x1f58ba99190>"
      ]
     },
     "execution_count": 576,
     "metadata": {},
     "output_type": "execute_result"
    },
    {
     "data": {
      "image/png": "[encoded data removed]",
      "text/plain": [
       "<Figure size 432x288 with 1 Axes>"
      ]
     },
     "metadata": {
      "needs_background": "light"
     },
     "output_type": "display_data"
    }
   ],
   "source": [
    "plt.scatter(train_data['property_type_n'],train_data['price'])"
   ]
  },
  {
   "cell_type": "code",
   "execution_count": 577,
   "metadata": {},
   "outputs": [
    {
     "data": {
      "text/plain": [
       "<matplotlib.collections.PathCollection at 0x1f58bab26d0>"
      ]
     },
     "execution_count": 577,
     "metadata": {},
     "output_type": "execute_result"
    },
    {
     "data": {
      "image/png": "[encoded data removed]",
      "text/plain": [
       "<Figure size 432x288 with 1 Axes>"
      ]
     },
     "metadata": {
      "needs_background": "light"
     },
     "output_type": "display_data"
    }
   ],
   "source": [
    "plt.scatter(train_data['furnish_type_n'],train_data['price'])"
   ]
  },
  {
   "cell_type": "code",
   "execution_count": 1322,
   "metadata": {},
   "outputs": [],
   "source": [
    "train_data['park&lift'] = train_data['lift'] + train_data['parking_spaces']"
   ]
  },
  {
   "cell_type": "code",
   "execution_count": 1323,
   "metadata": {},
   "outputs": [],
   "source": [
    "train_data['power&air'] = train_data['power_backup'] + train_data['air_conditioner']"
   ]
  },
  {
   "cell_type": "code",
   "execution_count": 1332,
   "metadata": {},
   "outputs": [],
   "source": [
    "x_train,x_test,y_train,y_test = train_test_split(train_data[[ 'room','furnish_type_n','city_n','bathroom', 'washing_machine','security_deposit','park&lift','power&air']],train_data['price'],test_size=0.000001,random_state=42)"
   ]
  },
  {
   "cell_type": "code",
   "execution_count": 1334,
   "metadata": {},
   "outputs": [],
   "source": [
    "from xgboost import XGBRegressor"
   ]
  },
  {
   "cell_type": "code",
   "execution_count": 1335,
   "metadata": {},
   "outputs": [],
   "source": [
    "xgb = XGBRegressor(learning_rate=0.05)"
   ]
  },
  {
   "cell_type": "code",
   "execution_count": 1336,
   "metadata": {},
   "outputs": [
    {
     "data": {
      "text/plain": [
       "XGBRegressor(base_score=0.5, booster='gbtree', colsample_bylevel=1,\n",
       "             colsample_bynode=1, colsample_bytree=1, gamma=0, gpu_id=-1,\n",
       "             importance_type='gain', interaction_constraints='',\n",
       "             learning_rate=0.05, max_delta_step=0, max_depth=6,\n",
       "             min_child_weight=1, missing=nan, monotone_constraints='()',\n",
       "             n_estimators=100, n_jobs=4, num_parallel_tree=1, random_state=0,\n",
       "             reg_alpha=0, reg_lambda=1, scale_pos_weight=1, subsample=1,\n",
       "             tree_method='exact', validate_parameters=1, verbosity=None)"
      ]
     },
     "execution_count": 1336,
     "metadata": {},
     "output_type": "execute_result"
    }
   ],
   "source": [
    "xgb.fit(x_train,y_train)"
   ]
  },
  {
   "cell_type": "code",
   "execution_count": 1329,
   "metadata": {},
   "outputs": [],
   "source": [
    "y_pred = xgb.predict(x_test)"
   ]
  },
  {
   "cell_type": "code",
   "execution_count": 1330,
   "metadata": {},
   "outputs": [
    {
     "name": "stdout",
     "output_type": "stream",
     "text": [
      "164.51407544398225 27064.881019188284\n"
     ]
    }
   ],
   "source": [
    "mse = mean_squared_error(y_test,y_pred,squared=False)\n",
    "rmse = np.sqrt(mse)\n",
    "print(rmse,mse)\n"
   ]
  },
  {
   "cell_type": "code",
   "execution_count": null,
   "metadata": {},
   "outputs": [],
   "source": []
  }
 ],
 "metadata": {
  "kernelspec": {
   "display_name": "Python 3",
   "language": "python",
   "name": "python3"
  },
  "language_info": {
   "codemirror_mode": {
    "name": "ipython",
    "version": 3
   },
   "file_extension": ".py",
   "mimetype": "text/x-python",
   "name": "python",
   "nbconvert_exporter": "python",
   "pygments_lexer": "ipython3",
   "version": "3.9.2"
  }
 },
 "nbformat": 4,
 "nbformat_minor": 4
}
